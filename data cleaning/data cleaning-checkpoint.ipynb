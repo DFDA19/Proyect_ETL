{
 "cells": [
  {
   "cell_type": "code",
   "execution_count": 1,
   "id": "64359199",
   "metadata": {},
   "outputs": [],
   "source": [
    "from selenium import webdriver\n",
    "import pandas as pd\n",
    "from selenium.webdriver.chrome.options import Options\n",
    "from webdriver_manager.chrome import ChromeDriverManager\n",
    "import numpy as np\n",
    "import matplotlib.pyplot as plt\n",
    "import seaborn as sns\n",
    "\n",
    "from selenium.webdriver.common.by import By # By es para buscar por tag, clase, id...\n",
    "\n",
    "import time\n",
    "\n",
    "import warnings\n",
    "warnings.filterwarnings('ignore')\n",
    "\n",
    "# defino funciones para llamarlas luego\n",
    "\n",
    "def check_nan(df: pd.DataFrame) -> None:\n",
    "    \n",
    "    \"\"\"Recibe un dataframe y enseña el % de valores nulos y lo grafica\"\"\"\n",
    "    \n",
    "    nan_cols = df.isna().mean() * 100  # porcentaje de nulo en cada columna\n",
    "    \n",
    "    display(f'N nan cols: {len(nan_cols[nan_cols>0])}')\n",
    "    display(nan_cols[nan_cols>0])\n",
    "    \n",
    "    \n",
    "    # grafico de nulos en el dataframe\n",
    "    plt.figure(figsize=(10, 6))     # inicia la figura y establece el tamaño\n",
    "    sns.heatmap(df.isna(),          # datos\n",
    "                yticklabels=False,  # quita las etiquetas del eje y\n",
    "                cmap='viridis',     # mapa de color\n",
    "                cbar=False,         # sin barra lateral\n",
    "               )\n",
    "\n",
    "\n",
    "    plt.show();"
   ]
  },
  {
   "cell_type": "code",
   "execution_count": 2,
   "id": "75e3c2b9",
   "metadata": {},
   "outputs": [],
   "source": [
    "PATH = ChromeDriverManager().install()    # instala driver de chrome\n",
    "\n",
    "driver = webdriver.Chrome(PATH)      # abre una ventana de chrome\n",
    "\n",
    "driver.get('https://www.expertoanimal.com/razas-de-gatos.html')"
   ]
  },
  {
   "cell_type": "code",
   "execution_count": 3,
   "id": "48561613",
   "metadata": {},
   "outputs": [],
   "source": [
    "driver.find_element(By.XPATH, '/html/body/div[2]/div[2]/div[1]/div[2]/div[2]/button[1]').click()"
   ]
  },
  {
   "cell_type": "code",
   "execution_count": 4,
   "id": "130f7f9e",
   "metadata": {},
   "outputs": [
    {
     "data": {
      "text/plain": [
       "[['Maine coon',\n",
       "  'El gato Maine coon destaca por ser un felino grande, robusto y de carácter dócil. No obstante, debido a sus peculiaridades en cuanto a características, personalidad o cuidados, será fundamental informarnos previamente si nuestro deseo es adoptar a uno. Conocido como el \"gigante gentil\" gatuno, este felino se encuentra...'],\n",
       " ['Siamés',\n",
       "  'El gato siamés probablemente sea uno de los gatos más populares del mundo actual. El azul intenso de su mirada hace que nos quedemos embobados mirándolo y, si a eso le sumamos la combinación de colores en su pelaje, el resultado es un esbelto, elegante y adorable gato que nos roba el corazón. Se trata...'],\n",
       " ['Gato persa',\n",
       "  'Reconocemos fácilmente al gato persa por su cara ancha y aplanada junto al abundante pelaje, que puede ser de distintos colores. Fueron introducidos en Italia desde la antigua Persia (Irán) sobre el 1620 aunque se desconoce el auténtico origen. El estándar del persa actual, tal y como lo conocemos se fijó en...'],\n",
       " ['Gato kohana',\n",
       "  'El gato kohana es un felino proveniente de Hawái y, en realidad, no es una raza diferenciada, sino una mutación del gato sphynx, siendo también un ejemplar sin pelo totalmente al carecer de folículos pilosos. Temperamentalmente es un gato ideal para el hogar, pues presenta un carácter dócil, entrañable,...'],\n",
       " ['British shorthair - Gato británico de pelo corto',\n",
       "  'El british shorthair, también conocido como gato británico de pelo corto, es considerada una de las razas más antiguas y populares de Gran Bretaña. ¿Estás pensando en adoptar a uno? ¿Quieres saber más sobre esta raza? En esta ficha de raza de ExpertoAnimal te mostraremos todo lo que necesitas saber del gato...']]"
      ]
     },
     "execution_count": 4,
     "metadata": {},
     "output_type": "execute_result"
    }
   ],
   "source": [
    "cats_web = driver.find_elements(By.CLASS_NAME,'resultado.link')\n",
    "\n",
    "cats1 = []\n",
    "\n",
    "for cats in cats_web:\n",
    "    \n",
    "#time.sleep(1)    \n",
    "    \n",
    "    cats1.append(cats.text.strip().split('\\n'))\n",
    "    \n",
    "cats1[:5]"
   ]
  },
  {
   "cell_type": "code",
   "execution_count": 5,
   "id": "ba9e3377",
   "metadata": {},
   "outputs": [],
   "source": [
    "driver.get('https://www.expertoanimal.com/razas-de-gatos_2.html')"
   ]
  },
  {
   "cell_type": "code",
   "execution_count": 6,
   "id": "345eff3b",
   "metadata": {},
   "outputs": [],
   "source": [
    "#driver.find_element(By.XPATH, '/html/body/div[2]/div[2]/div[1]/div[2]/div[2]/button[1]').click()"
   ]
  },
  {
   "cell_type": "code",
   "execution_count": 7,
   "id": "4b3acca9",
   "metadata": {},
   "outputs": [
    {
     "data": {
      "text/plain": [
       "[['Gato burmés',\n",
       "  'Al mirar a un burmés puede que pensemos que se trata de una variante de los gatos siameses, pero de un color diferente. No obstante, no estamos ante una variante de siamés, sino ante una raza realmente antigua que existía ya en el medievo, pese a que no llegará a EEUU y Europa hasta el pasado siglo XX....'],\n",
       " ['Gato chausie',\n",
       "  'De una arrebatadora belleza basada en su aspecto salvaje, lo cual es lógico dados sus orígenes, el chausie es un gato híbrido nacido de la mezcla entre gatos salvajes y gatos domésticos. Un felino maravilloso pero no apto para todos los públicos. Queremos contaros todo lo posible sobre el fascinante gato...']]"
      ]
     },
     "execution_count": 7,
     "metadata": {},
     "output_type": "execute_result"
    }
   ],
   "source": [
    "cats_web2 = driver.find_elements(By.CLASS_NAME,'resultado.link')\n",
    "\n",
    "cats2 = []\n",
    "\n",
    "for cats in cats_web2:\n",
    "    \n",
    "    cats2.append(cats.text.strip().split('\\n'))\n",
    "    \n",
    "cats2 [:2]"
   ]
  },
  {
   "cell_type": "code",
   "execution_count": 8,
   "id": "94321cf5",
   "metadata": {},
   "outputs": [],
   "source": [
    "catsdf1 = pd.DataFrame(cats1)"
   ]
  },
  {
   "cell_type": "code",
   "execution_count": 9,
   "id": "ddd94246",
   "metadata": {},
   "outputs": [],
   "source": [
    "catsdf2 = pd.DataFrame(cats2)"
   ]
  },
  {
   "cell_type": "code",
   "execution_count": 10,
   "id": "d1fe5c02",
   "metadata": {},
   "outputs": [],
   "source": [
    "catsdf = pd.concat([catsdf1, catsdf2])"
   ]
  },
  {
   "cell_type": "code",
   "execution_count": 11,
   "id": "31b2b313",
   "metadata": {},
   "outputs": [],
   "source": [
    "catsdf.rename(columns={ 1 : 'short_descr'}, inplace=True)"
   ]
  },
  {
   "cell_type": "code",
   "execution_count": 12,
   "id": "e2b17284",
   "metadata": {},
   "outputs": [],
   "source": [
    "catsdf.rename(columns={ 0 : 'name'}, inplace=True)"
   ]
  },
  {
   "cell_type": "code",
   "execution_count": 13,
   "id": "c8ffe76e",
   "metadata": {},
   "outputs": [
    {
     "data": {
      "text/html": [
       "<div>\n",
       "<style scoped>\n",
       "    .dataframe tbody tr th:only-of-type {\n",
       "        vertical-align: middle;\n",
       "    }\n",
       "\n",
       "    .dataframe tbody tr th {\n",
       "        vertical-align: top;\n",
       "    }\n",
       "\n",
       "    .dataframe thead th {\n",
       "        text-align: right;\n",
       "    }\n",
       "</style>\n",
       "<table border=\"1\" class=\"dataframe\">\n",
       "  <thead>\n",
       "    <tr style=\"text-align: right;\">\n",
       "      <th></th>\n",
       "      <th>name</th>\n",
       "      <th>short_descr</th>\n",
       "    </tr>\n",
       "  </thead>\n",
       "  <tbody>\n",
       "    <tr>\n",
       "      <th>0</th>\n",
       "      <td>Maine coon</td>\n",
       "      <td>El gato Maine coon destaca por ser un felino g...</td>\n",
       "    </tr>\n",
       "    <tr>\n",
       "      <th>1</th>\n",
       "      <td>Siamés</td>\n",
       "      <td>El gato siamés probablemente sea uno de los ga...</td>\n",
       "    </tr>\n",
       "    <tr>\n",
       "      <th>2</th>\n",
       "      <td>Gato persa</td>\n",
       "      <td>Reconocemos fácilmente al gato persa por su ca...</td>\n",
       "    </tr>\n",
       "    <tr>\n",
       "      <th>3</th>\n",
       "      <td>Gato kohana</td>\n",
       "      <td>El gato kohana es un felino proveniente de Haw...</td>\n",
       "    </tr>\n",
       "    <tr>\n",
       "      <th>4</th>\n",
       "      <td>British shorthair - Gato británico de pelo corto</td>\n",
       "      <td>El british shorthair, también conocido como ga...</td>\n",
       "    </tr>\n",
       "    <tr>\n",
       "      <th>...</th>\n",
       "      <td>...</td>\n",
       "      <td>...</td>\n",
       "    </tr>\n",
       "    <tr>\n",
       "      <th>21</th>\n",
       "      <td>Gato balinés</td>\n",
       "      <td>El balinés es un gato que tiene sus orígenes e...</td>\n",
       "    </tr>\n",
       "    <tr>\n",
       "      <th>22</th>\n",
       "      <td>Gato azul ruso</td>\n",
       "      <td>El gato azul ruso es sin duda uno de los felin...</td>\n",
       "    </tr>\n",
       "    <tr>\n",
       "      <th>23</th>\n",
       "      <td>Gato bombay</td>\n",
       "      <td>El gato bombay es sin duda una de las razas de...</td>\n",
       "    </tr>\n",
       "    <tr>\n",
       "      <th>24</th>\n",
       "      <td>Mau egipcio</td>\n",
       "      <td>Encontramos en el mau egipcio uno de los gatos...</td>\n",
       "    </tr>\n",
       "    <tr>\n",
       "      <th>25</th>\n",
       "      <td>Australian Mist</td>\n",
       "      <td>El australian mist o gato de la niebla es una ...</td>\n",
       "    </tr>\n",
       "  </tbody>\n",
       "</table>\n",
       "<p>76 rows × 2 columns</p>\n",
       "</div>"
      ],
      "text/plain": [
       "                                                name  \\\n",
       "0                                         Maine coon   \n",
       "1                                             Siamés   \n",
       "2                                         Gato persa   \n",
       "3                                        Gato kohana   \n",
       "4   British shorthair - Gato británico de pelo corto   \n",
       "..                                               ...   \n",
       "21                                      Gato balinés   \n",
       "22                                    Gato azul ruso   \n",
       "23                                       Gato bombay   \n",
       "24                                       Mau egipcio   \n",
       "25                                   Australian Mist   \n",
       "\n",
       "                                          short_descr  \n",
       "0   El gato Maine coon destaca por ser un felino g...  \n",
       "1   El gato siamés probablemente sea uno de los ga...  \n",
       "2   Reconocemos fácilmente al gato persa por su ca...  \n",
       "3   El gato kohana es un felino proveniente de Haw...  \n",
       "4   El british shorthair, también conocido como ga...  \n",
       "..                                                ...  \n",
       "21  El balinés es un gato que tiene sus orígenes e...  \n",
       "22  El gato azul ruso es sin duda uno de los felin...  \n",
       "23  El gato bombay es sin duda una de las razas de...  \n",
       "24  Encontramos en el mau egipcio uno de los gatos...  \n",
       "25  El australian mist o gato de la niebla es una ...  \n",
       "\n",
       "[76 rows x 2 columns]"
      ]
     },
     "execution_count": 13,
     "metadata": {},
     "output_type": "execute_result"
    }
   ],
   "source": [
    "catsdf"
   ]
  },
  {
   "cell_type": "code",
   "execution_count": 14,
   "id": "73623be6",
   "metadata": {},
   "outputs": [
    {
     "data": {
      "text/html": [
       "<div>\n",
       "<style scoped>\n",
       "    .dataframe tbody tr th:only-of-type {\n",
       "        vertical-align: middle;\n",
       "    }\n",
       "\n",
       "    .dataframe tbody tr th {\n",
       "        vertical-align: top;\n",
       "    }\n",
       "\n",
       "    .dataframe thead th {\n",
       "        text-align: right;\n",
       "    }\n",
       "</style>\n",
       "<table border=\"1\" class=\"dataframe\">\n",
       "  <thead>\n",
       "    <tr style=\"text-align: right;\">\n",
       "      <th></th>\n",
       "      <th>name</th>\n",
       "      <th>short_descr</th>\n",
       "    </tr>\n",
       "  </thead>\n",
       "  <tbody>\n",
       "    <tr>\n",
       "      <th>0</th>\n",
       "      <td>Maine coon</td>\n",
       "      <td>El gato Maine coon destaca por ser un felino g...</td>\n",
       "    </tr>\n",
       "    <tr>\n",
       "      <th>1</th>\n",
       "      <td>Siamés</td>\n",
       "      <td>El gato siamés probablemente sea uno de los ga...</td>\n",
       "    </tr>\n",
       "    <tr>\n",
       "      <th>2</th>\n",
       "      <td>Gato persa</td>\n",
       "      <td>Reconocemos fácilmente al gato persa por su ca...</td>\n",
       "    </tr>\n",
       "    <tr>\n",
       "      <th>3</th>\n",
       "      <td>Gato kohana</td>\n",
       "      <td>El gato kohana es un felino proveniente de Haw...</td>\n",
       "    </tr>\n",
       "    <tr>\n",
       "      <th>4</th>\n",
       "      <td>British shorthair - Gato británico de pelo corto</td>\n",
       "      <td>El british shorthair, también conocido como ga...</td>\n",
       "    </tr>\n",
       "    <tr>\n",
       "      <th>...</th>\n",
       "      <td>...</td>\n",
       "      <td>...</td>\n",
       "    </tr>\n",
       "    <tr>\n",
       "      <th>21</th>\n",
       "      <td>Gato balinés</td>\n",
       "      <td>El balinés es un gato que tiene sus orígenes e...</td>\n",
       "    </tr>\n",
       "    <tr>\n",
       "      <th>22</th>\n",
       "      <td>Gato azul ruso</td>\n",
       "      <td>El gato azul ruso es sin duda uno de los felin...</td>\n",
       "    </tr>\n",
       "    <tr>\n",
       "      <th>23</th>\n",
       "      <td>Gato bombay</td>\n",
       "      <td>El gato bombay es sin duda una de las razas de...</td>\n",
       "    </tr>\n",
       "    <tr>\n",
       "      <th>24</th>\n",
       "      <td>Mau egipcio</td>\n",
       "      <td>Encontramos en el mau egipcio uno de los gatos...</td>\n",
       "    </tr>\n",
       "    <tr>\n",
       "      <th>25</th>\n",
       "      <td>Australian Mist</td>\n",
       "      <td>El australian mist o gato de la niebla es una ...</td>\n",
       "    </tr>\n",
       "  </tbody>\n",
       "</table>\n",
       "<p>76 rows × 2 columns</p>\n",
       "</div>"
      ],
      "text/plain": [
       "                                                name  \\\n",
       "0                                         Maine coon   \n",
       "1                                             Siamés   \n",
       "2                                         Gato persa   \n",
       "3                                        Gato kohana   \n",
       "4   British shorthair - Gato británico de pelo corto   \n",
       "..                                               ...   \n",
       "21                                      Gato balinés   \n",
       "22                                    Gato azul ruso   \n",
       "23                                       Gato bombay   \n",
       "24                                       Mau egipcio   \n",
       "25                                   Australian Mist   \n",
       "\n",
       "                                          short_descr  \n",
       "0   El gato Maine coon destaca por ser un felino g...  \n",
       "1   El gato siamés probablemente sea uno de los ga...  \n",
       "2   Reconocemos fácilmente al gato persa por su ca...  \n",
       "3   El gato kohana es un felino proveniente de Haw...  \n",
       "4   El british shorthair, también conocido como ga...  \n",
       "..                                                ...  \n",
       "21  El balinés es un gato que tiene sus orígenes e...  \n",
       "22  El gato azul ruso es sin duda uno de los felin...  \n",
       "23  El gato bombay es sin duda una de las razas de...  \n",
       "24  Encontramos en el mau egipcio uno de los gatos...  \n",
       "25  El australian mist o gato de la niebla es una ...  \n",
       "\n",
       "[76 rows x 2 columns]"
      ]
     },
     "execution_count": 14,
     "metadata": {},
     "output_type": "execute_result"
    }
   ],
   "source": [
    "def dap(string):\n",
    "    return string.split(\".\")[0]\n",
    "\n",
    "# Aplicar la función a la columna \n",
    "catsdf['short_descr'] = catsdf['short_descr'].apply(dap)\n",
    "\n",
    "# Imprimir el DataFrame resultante\n",
    "(catsdf)"
   ]
  },
  {
   "cell_type": "code",
   "execution_count": 15,
   "id": "74ad3b36",
   "metadata": {},
   "outputs": [],
   "source": [
    "from translate import Translator\n",
    "\n",
    "def translate_text(text):\n",
    "    translator= Translator(from_lang=\"es\",to_lang=\"en\")\n",
    "    translation = translator.translate(text)\n",
    "    return translation\n"
   ]
  },
  {
   "cell_type": "code",
   "execution_count": 16,
   "id": "f1690420",
   "metadata": {},
   "outputs": [],
   "source": [
    "catsdf['short_descr'] = catsdf['short_descr'].apply(translate_text)\n"
   ]
  },
  {
   "cell_type": "code",
   "execution_count": 17,
   "id": "2fb1ea4d",
   "metadata": {},
   "outputs": [
    {
     "data": {
      "text/html": [
       "<div>\n",
       "<style scoped>\n",
       "    .dataframe tbody tr th:only-of-type {\n",
       "        vertical-align: middle;\n",
       "    }\n",
       "\n",
       "    .dataframe tbody tr th {\n",
       "        vertical-align: top;\n",
       "    }\n",
       "\n",
       "    .dataframe thead th {\n",
       "        text-align: right;\n",
       "    }\n",
       "</style>\n",
       "<table border=\"1\" class=\"dataframe\">\n",
       "  <thead>\n",
       "    <tr style=\"text-align: right;\">\n",
       "      <th></th>\n",
       "      <th>name</th>\n",
       "      <th>short_descr</th>\n",
       "    </tr>\n",
       "  </thead>\n",
       "  <tbody>\n",
       "    <tr>\n",
       "      <th>0</th>\n",
       "      <td>Maine coon</td>\n",
       "      <td>The Maine coon cat stands out for being a larg...</td>\n",
       "    </tr>\n",
       "    <tr>\n",
       "      <th>1</th>\n",
       "      <td>Siamés</td>\n",
       "      <td>The Siamese cat is probably one of the most po...</td>\n",
       "    </tr>\n",
       "  </tbody>\n",
       "</table>\n",
       "</div>"
      ],
      "text/plain": [
       "         name                                        short_descr\n",
       "0  Maine coon  The Maine coon cat stands out for being a larg...\n",
       "1      Siamés  The Siamese cat is probably one of the most po..."
      ]
     },
     "execution_count": 17,
     "metadata": {},
     "output_type": "execute_result"
    }
   ],
   "source": [
    "catsdf.head(2)"
   ]
  },
  {
   "cell_type": "code",
   "execution_count": 18,
   "id": "bb327cd2",
   "metadata": {},
   "outputs": [
    {
     "data": {
      "text/plain": [
       "array(['The Maine coon cat stands out for being a large, robust and docile feline.',\n",
       "       'The Siamese cat is probably one of the most popular cats in the world today.',\n",
       "       'We can easily recognize the Persian cat by its wide and flattened face next to the abundant coat, which can be of different colors.',\n",
       "       'The kohana cat is a feline from Hawaii and, in reality, is not a differentiated breed, but a mutation of the sphynx cat, being also a hairless specimen totally lacking hair follicles.',\n",
       "       \"The British Shorthair, also known as the British Shorthaired Cat, is considered one of Britain's oldest and most popular breeds.\",\n",
       "       'The elf cat is a mix between the sphynx cat and the American curl cat.',\n",
       "       'The baby cat is small in size and arose as a result of the cross between sphynx and munchkin cats, so its main characteristic is that it is a short-legged cat without hair.',\n",
       "       'The Ukrainian levkoy cat is a breed of the 21st century that is still not well known outside its place of origin nor has it been recognized by international feline federations.',\n",
       "       'If you have heard of a lykoi cat or are wondering what a wolf cat is we bring you the answer',\n",
       "       'The American shorthair is a medium-sized cat, strong and athletic, that arrived in the Americas about 400 years ago by the hand of the colonists of England, who used it for pest control.',\n",
       "       'The Bengal cat or Bengali is a hybrid that is born between the crossing a domestic cat and a leopard cat (Asian feline that is still in the wild), that is why many people today wonder if the Bengal cat is a wild cat.',\n",
       "       'The Himalayan cat is a cross between the Persian, from whom it has developed its physical characteristics and the Siamese, from whom it has inherited the characteristic pattern.',\n",
       "       'The Manx cat is one of the most peculiar for its tail and general physical appearance.',\n",
       "       'A beautiful and striking pearl gray, with a long and silky coat, so look the cats of the Nebelung breed, traits inherited from Russian blue cats, in the case of color, and American longhair cats, in terms of softness and length of fur',\n",
       "       'The Ceylon cat is a rare feline, as there are very few specimens found in France and Italy.',\n",
       "       'The Kurilian Bobtail originated less than 200 years ago in the Russian Kuril Islands.',\n",
       "       'The ragdoll cat emerged in 1960 in California, United States, although the breed was not officially recognized until ten years later.',\n",
       "       'The Thai cat, or traditional Siamese, is the first Siamese cat that originated in ancient Siam, which today is Thailand.',\n",
       "       'The German Rex is the first Rex cat to appear.',\n",
       "       'The don sphynx cat, also known as the donskoy cat, comes from Russia and was found in the 80s, when a kitten was found that was losing its hair little by little and that had a litter formed by kittens who ended up losing it as well.',\n",
       "       'The Neva masquerade cat is the colorpoint pattern variety of the Siberian cat, although currently it is a breed officially recognized by the International Feline Federation (FIFE).',\n",
       "       'With a fluffy and cottony coat, captivating look and sociable character, Turkish van cats have many characteristics that make them unique and especially desired.',\n",
       "       'Fruit of crosses between Siamese and American shorthairs, we find this feline breed whose print is really beautiful and elegant',\n",
       "       'The Chantilly-Tiffany cat is a feline of American origin from the crossing of several feline breeds with short and long hair, resulting in a cat of medium size, semi-long coat and abundant in neck, chest and tail and that can be of various colors and patterns.',\n",
       "       'The colorpoint cat is a combination of Siamese cats and short-haired cats such as British and American shorthair and Abyssinians.',\n",
       "       'Coming from far away Turkey, Angora cats are one of the oldest feline breeds in the world.',\n",
       "       'Minskin cats are small cats with short legs and little or no hair that arise in the United States two decades ago as a result of the crossing between munchkin and sphynx cats.',\n",
       "       'The Habana cat comes from 19th century Europe, more specifically from England, where it began to breed by selecting brown Siamese.',\n",
       "       'The European common cat is also known as \"Roman cat\" since it was at that time when they spread throughout Europe.',\n",
       "       'Ragamuffins are huge cats with a particular and exotic appearance that arrived by chance and have conquered half the world since they emerged.',\n",
       "       'The Ashera cat is undoubtedly a very popular cat either for its slender and beautiful figure, for the quiet and silent character or for the exorbitant price of those who created it.',\n",
       "       'The British long-haired cat comes from the cross between short-haired Britons and Persians after the world wars',\n",
       "       'The khae manee cats are cats from Thailand that are characterized by having a short white coat and generally have eyes of disparate colors (heterochromia), often being one blue and the other green or yellow.',\n",
       "       'The beginning of the caracat cats was totally accidental in a zoo in Russia at the end of the last century, when a wild caracal was reproduced with a domestic cat that walked around there.',\n",
       "       'The singapura cat is a very small breed, but strong and muscular',\n",
       "       'Highland fold cats are a longhaired variant of the Scottish fold.',\n",
       "       'The American bobtail cat breed appeared spontaneously due to a dominant genetic mutation in Arizona in the late 1960s.',\n",
       "       'The ural rex cat is a very familiar, affectionate, sociable, intelligent and playful feline, while calm and balanced.',\n",
       "       'Cymric cats are actually longhaired manx cats.',\n",
       "       'The skookum cat breed arises as a result of interbreeding between Munchkin cats, known for their short legs, and LaPerm cats, a curly-haired feline, resulting in a short-legged, curly-haired cat.',\n",
       "       'Although it tends to be confused with the American bobtail, the Japanese bobtail cat is a different breed whose only similarity is the short, pompom-shaped tail.',\n",
       "       \"Do you know that there is a cat breed that is like a miniature tiger? Yes, it's called a toyger cat, which literally translates to “toy tiger.”\",\n",
       "       'Small to medium in size, the munchkin cat has become one of the most popular cat breeds due to its peculiar physical appearance.',\n",
       "       'The American wirehair cat is one of the newest and most special breeds of our day.',\n",
       "       'Similar in appearance to the bobcat, as both have a characteristically short tail, the cats of the pixie bob breed are here to stay',\n",
       "       'The Tonkinés, Tonkinese or Tonquinés cat is a mixture of Siamese with Burmese, a beautiful golden Siamese with Canadian roots.',\n",
       "       'The LaPerm cat is a curious feline that developed by chance in Oregon, United States, relatively recently',\n",
       "       'In this article we will show one of the most special breeds of cats, considered as a fairly exclusive breed due to the small number of specimens that exist around the world.',\n",
       "       'The American curl cat stands out for its ears and, although it is a relatively young breed, it is tremendously popular in its country of origin, although not so much in Europe or on other continents.',\n",
       "       'In ExpertoAnimal we will discover the details about a race quite unknown and with which we must take certain precautions if we intend to adopt and include in our family one of these felines.',\n",
       "       'When looking at a burmese we may think that it is a variant of the Siamese cats, but of a different color.',\n",
       "       'Of a breathtaking beauty based on its wild appearance, which is logical given its origins, the chausie is a hybrid cat born from the mixture between wild cats and domestic cats.',\n",
       "       'Devon Rex cats are beautiful little kittens who love to spend hours and hours receiving pampering and games, being considered as a cat-dog that follows its human wherever it goes.',\n",
       "       'Also known as a Javanese or Mandarin cat, the Oriental long-haired cat is considered to be one of the most endearing cat breeds in the world.',\n",
       "       'Famous throughout the world, the Scottish fold or Scottish cat is known for its adorable droopy ears and tender look.',\n",
       "       'Ironically, one of the oldest breeds in the world has taken centuries to reach countries such as the United States or capitals of all Europe, we speak of korat cats, originally from Thailand, where they are considered carriers of fortune and good luck.',\n",
       "       'With many traits in common with its sister breed, the Abyssinian cat, this is often considered to be its long-haired version.',\n",
       "       'The sphynx cat or sphinx cat is a truly unique cat in the world',\n",
       "       'With an exotic and unique appearance, the savannah cat is reminiscent of a real miniature leopard, right? But that does not deceive us, we are talking about a domestic feline that adapts perfectly to coexistence within the home',\n",
       "       'Of uncertain origin but undoubtedly one of the oldest breeds known, the Carthusian cats have shared history with such important figures as General De Gaulle and Templar monks of a homonymous monastery located in France.',\n",
       "       'The sokoke cat comes from the exotic African continent, where we find a feline whose appearance only highlights these origins.',\n",
       "       'The Selkirk Rex cat breed stands out mainly for its coat, which is precisely attributed with the nickname of \"sheep cat\".',\n",
       "       'Sweet and affectionate, so is the Cornish Rex, a kitten with big ears and beautiful wavy hair that has conquered thousands and thousands of hearts around the world.',\n",
       "       'In this article by ExpertoAnimal we discover an unparalleled feline, a cat with the appearance of a wild feline but with all the characteristics of a domestic cat',\n",
       "       'Peterbald cats are part of the so-called hairless cats, because they do not have a coat, unlike most feline breeds.',\n",
       "       \"Forerunners, along with Siamese cats and Persian cats, of many of today's cat breeds, the Oriental short-haired cats, although not as famous as these others, constitute a settled breed, which in their place of origin, Thailand, have become historically representative,\",\n",
       "       'With an abundant coat and penetrating look, the Siberian cat has become one of the most popular and appreciated feline breeds worldwide.',\n",
       "       'Quiet and friendly, the exotic shorthair resembles the Persians, except for its long coat, which is genetically justified, since they are the result of the mixture between Persians and Americans of short hair and, also, of British of short hair.',\n",
       "       'Halfway between the Persians and the Siamese, we find this curious feline that will captivate us, in addition to its exuberant appearance, due to its long coat and its sweeping look, for its calm and docile character.',\n",
       "       'Coming from the lush Scandinavian forests we find the Norwegian forest cats, whose appearance resembles that of a small lynx',\n",
       "       'All cats share behavioral characteristics capable of fascinating feline lovers, however, the Abyssinian cat distills a great elegance and harmony and one of its most important characteristics is its friendly and playful character, in fact, it is said that this cat always retains',\n",
       "       'The Balinese is a cat that has its origins in the United States and is descended from Siamese and other long-haired cats.',\n",
       "       'The Russian blue cat is undoubtedly one of the most popular and beautiful felines',\n",
       "       'The Bombay Cat is undoubtedly one of the most popular and beautiful cat breeds out there.',\n",
       "       'We found in the Egyptian mau one of the most elegant cats that exist',\n",
       "       'The Australian mist or fog cat is a breed developed in Australia in 1976.'],\n",
       "      dtype=object)"
      ]
     },
     "execution_count": 18,
     "metadata": {},
     "output_type": "execute_result"
    }
   ],
   "source": [
    "catsdf['short_descr'].unique()"
   ]
  },
  {
   "cell_type": "code",
   "execution_count": 19,
   "id": "a831ea8e",
   "metadata": {},
   "outputs": [
    {
     "data": {
      "text/html": [
       "<div>\n",
       "<style scoped>\n",
       "    .dataframe tbody tr th:only-of-type {\n",
       "        vertical-align: middle;\n",
       "    }\n",
       "\n",
       "    .dataframe tbody tr th {\n",
       "        vertical-align: top;\n",
       "    }\n",
       "\n",
       "    .dataframe thead th {\n",
       "        text-align: right;\n",
       "    }\n",
       "</style>\n",
       "<table border=\"1\" class=\"dataframe\">\n",
       "  <thead>\n",
       "    <tr style=\"text-align: right;\">\n",
       "      <th></th>\n",
       "      <th>name</th>\n",
       "      <th>short_descr</th>\n",
       "    </tr>\n",
       "  </thead>\n",
       "  <tbody>\n",
       "    <tr>\n",
       "      <th>0</th>\n",
       "      <td>Maine coon</td>\n",
       "      <td>The Maine coon cat stands out for being a larg...</td>\n",
       "    </tr>\n",
       "    <tr>\n",
       "      <th>1</th>\n",
       "      <td>Siamés</td>\n",
       "      <td>The Siamese cat is probably one of the most po...</td>\n",
       "    </tr>\n",
       "    <tr>\n",
       "      <th>2</th>\n",
       "      <td>Gato persa</td>\n",
       "      <td>We can easily recognize the Persian cat by its...</td>\n",
       "    </tr>\n",
       "    <tr>\n",
       "      <th>3</th>\n",
       "      <td>Gato kohana</td>\n",
       "      <td>The kohana cat is a feline from Hawaii and, in...</td>\n",
       "    </tr>\n",
       "    <tr>\n",
       "      <th>4</th>\n",
       "      <td>British shorthair - Gato británico de pelo corto</td>\n",
       "      <td>The British Shorthair, also known as the Briti...</td>\n",
       "    </tr>\n",
       "    <tr>\n",
       "      <th>5</th>\n",
       "      <td>Gato elfo</td>\n",
       "      <td>The elf cat is a mix between the sphynx cat an...</td>\n",
       "    </tr>\n",
       "    <tr>\n",
       "      <th>6</th>\n",
       "      <td>Gato bambino</td>\n",
       "      <td>The baby cat is small in size and arose as a r...</td>\n",
       "    </tr>\n",
       "    <tr>\n",
       "      <th>7</th>\n",
       "      <td>Gato Levkoy ucraniano</td>\n",
       "      <td>The Ukrainian levkoy cat is a breed of the 21s...</td>\n",
       "    </tr>\n",
       "    <tr>\n",
       "      <th>8</th>\n",
       "      <td>Lykoi o gato lobo</td>\n",
       "      <td>If you have heard of a lykoi cat or are wonder...</td>\n",
       "    </tr>\n",
       "    <tr>\n",
       "      <th>9</th>\n",
       "      <td>Gato americano de pelo corto</td>\n",
       "      <td>The American shorthair is a medium-sized cat, ...</td>\n",
       "    </tr>\n",
       "    <tr>\n",
       "      <th>10</th>\n",
       "      <td>Gato de Bengala o bengalí</td>\n",
       "      <td>The Bengal cat or Bengali is a hybrid that is ...</td>\n",
       "    </tr>\n",
       "    <tr>\n",
       "      <th>11</th>\n",
       "      <td>Himalayo</td>\n",
       "      <td>The Himalayan cat is a cross between the Persi...</td>\n",
       "    </tr>\n",
       "    <tr>\n",
       "      <th>12</th>\n",
       "      <td>Gato manx</td>\n",
       "      <td>The Manx cat is one of the most peculiar for i...</td>\n",
       "    </tr>\n",
       "    <tr>\n",
       "      <th>13</th>\n",
       "      <td>Gato nebelung</td>\n",
       "      <td>A beautiful and striking pearl gray, with a lo...</td>\n",
       "    </tr>\n",
       "    <tr>\n",
       "      <th>14</th>\n",
       "      <td>Gato ceilán</td>\n",
       "      <td>The Ceylon cat is a rare feline, as there are ...</td>\n",
       "    </tr>\n",
       "    <tr>\n",
       "      <th>15</th>\n",
       "      <td>Gato kurilian bobtail</td>\n",
       "      <td>The Kurilian Bobtail originated less than 200 ...</td>\n",
       "    </tr>\n",
       "    <tr>\n",
       "      <th>16</th>\n",
       "      <td>Gato ragdoll</td>\n",
       "      <td>The ragdoll cat emerged in 1960 in California,...</td>\n",
       "    </tr>\n",
       "    <tr>\n",
       "      <th>17</th>\n",
       "      <td>Gato thai o siamés tradicional</td>\n",
       "      <td>The Thai cat, or traditional Siamese, is the f...</td>\n",
       "    </tr>\n",
       "    <tr>\n",
       "      <th>18</th>\n",
       "      <td>Gato german rex o rex alemán</td>\n",
       "      <td>The German Rex is the first Rex cat to appear.</td>\n",
       "    </tr>\n",
       "    <tr>\n",
       "      <th>19</th>\n",
       "      <td>Gato don sphynx o donskoy</td>\n",
       "      <td>The don sphynx cat, also known as the donskoy ...</td>\n",
       "    </tr>\n",
       "    <tr>\n",
       "      <th>20</th>\n",
       "      <td>Gato neva masquerade</td>\n",
       "      <td>The Neva masquerade cat is the colorpoint patt...</td>\n",
       "    </tr>\n",
       "    <tr>\n",
       "      <th>21</th>\n",
       "      <td>Van turco</td>\n",
       "      <td>With a fluffy and cottony coat, captivating lo...</td>\n",
       "    </tr>\n",
       "    <tr>\n",
       "      <th>22</th>\n",
       "      <td>Gato snowshoe</td>\n",
       "      <td>Fruit of crosses between Siamese and American ...</td>\n",
       "    </tr>\n",
       "    <tr>\n",
       "      <th>23</th>\n",
       "      <td>Gato Chantilly-Tiffany</td>\n",
       "      <td>The Chantilly-Tiffany cat is a feline of Ameri...</td>\n",
       "    </tr>\n",
       "    <tr>\n",
       "      <th>24</th>\n",
       "      <td>Gato colorpoint</td>\n",
       "      <td>The colorpoint cat is a combination of Siamese...</td>\n",
       "    </tr>\n",
       "    <tr>\n",
       "      <th>25</th>\n",
       "      <td>Gato angora turco</td>\n",
       "      <td>Coming from far away Turkey, Angora cats are o...</td>\n",
       "    </tr>\n",
       "    <tr>\n",
       "      <th>26</th>\n",
       "      <td>Gato minskin</td>\n",
       "      <td>Minskin cats are small cats with short legs an...</td>\n",
       "    </tr>\n",
       "    <tr>\n",
       "      <th>27</th>\n",
       "      <td>Gato Habana</td>\n",
       "      <td>The Habana cat comes from 19th century Europe,...</td>\n",
       "    </tr>\n",
       "    <tr>\n",
       "      <th>28</th>\n",
       "      <td>Gato común europeo</td>\n",
       "      <td>The European common cat is also known as \"Roma...</td>\n",
       "    </tr>\n",
       "    <tr>\n",
       "      <th>29</th>\n",
       "      <td>Ragamuffin</td>\n",
       "      <td>Ragamuffins are huge cats with a particular an...</td>\n",
       "    </tr>\n",
       "    <tr>\n",
       "      <th>30</th>\n",
       "      <td>Ashera</td>\n",
       "      <td>The Ashera cat is undoubtedly a very popular c...</td>\n",
       "    </tr>\n",
       "    <tr>\n",
       "      <th>31</th>\n",
       "      <td>Gato británico de pelo largo</td>\n",
       "      <td>The British long-haired cat comes from the cro...</td>\n",
       "    </tr>\n",
       "    <tr>\n",
       "      <th>32</th>\n",
       "      <td>Gato khao manee</td>\n",
       "      <td>The khae manee cats are cats from Thailand tha...</td>\n",
       "    </tr>\n",
       "    <tr>\n",
       "      <th>33</th>\n",
       "      <td>Gato caracat</td>\n",
       "      <td>The beginning of the caracat cats was totally ...</td>\n",
       "    </tr>\n",
       "    <tr>\n",
       "      <th>34</th>\n",
       "      <td>Gato singapura o singapur</td>\n",
       "      <td>The singapura cat is a very small breed, but s...</td>\n",
       "    </tr>\n",
       "    <tr>\n",
       "      <th>35</th>\n",
       "      <td>Gato highland fold</td>\n",
       "      <td>Highland fold cats are a longhaired variant of...</td>\n",
       "    </tr>\n",
       "    <tr>\n",
       "      <th>36</th>\n",
       "      <td>Gato bobtail americano</td>\n",
       "      <td>The American bobtail cat breed appeared sponta...</td>\n",
       "    </tr>\n",
       "    <tr>\n",
       "      <th>37</th>\n",
       "      <td>Gato ural rex</td>\n",
       "      <td>The ural rex cat is a very familiar, affection...</td>\n",
       "    </tr>\n",
       "    <tr>\n",
       "      <th>38</th>\n",
       "      <td>Gato cymric</td>\n",
       "      <td>Cymric cats are actually longhaired manx cats.</td>\n",
       "    </tr>\n",
       "    <tr>\n",
       "      <th>39</th>\n",
       "      <td>Gato skookum</td>\n",
       "      <td>The skookum cat breed arises as a result of in...</td>\n",
       "    </tr>\n",
       "    <tr>\n",
       "      <th>40</th>\n",
       "      <td>Gato bobtail japonés</td>\n",
       "      <td>Although it tends to be confused with the Amer...</td>\n",
       "    </tr>\n",
       "    <tr>\n",
       "      <th>41</th>\n",
       "      <td>Gato toyger</td>\n",
       "      <td>Do you know that there is a cat breed that is ...</td>\n",
       "    </tr>\n",
       "    <tr>\n",
       "      <th>42</th>\n",
       "      <td>Gato munchkin</td>\n",
       "      <td>Small to medium in size, the munchkin cat has ...</td>\n",
       "    </tr>\n",
       "    <tr>\n",
       "      <th>43</th>\n",
       "      <td>Gato american wirehair</td>\n",
       "      <td>The American wirehair cat is one of the newest...</td>\n",
       "    </tr>\n",
       "    <tr>\n",
       "      <th>44</th>\n",
       "      <td>Gato pixie bob</td>\n",
       "      <td>Similar in appearance to the bobcat, as both h...</td>\n",
       "    </tr>\n",
       "  </tbody>\n",
       "</table>\n",
       "</div>"
      ],
      "text/plain": [
       "                                                name  \\\n",
       "0                                         Maine coon   \n",
       "1                                             Siamés   \n",
       "2                                         Gato persa   \n",
       "3                                        Gato kohana   \n",
       "4   British shorthair - Gato británico de pelo corto   \n",
       "5                                          Gato elfo   \n",
       "6                                       Gato bambino   \n",
       "7                              Gato Levkoy ucraniano   \n",
       "8                                  Lykoi o gato lobo   \n",
       "9                       Gato americano de pelo corto   \n",
       "10                         Gato de Bengala o bengalí   \n",
       "11                                          Himalayo   \n",
       "12                                         Gato manx   \n",
       "13                                     Gato nebelung   \n",
       "14                                       Gato ceilán   \n",
       "15                             Gato kurilian bobtail   \n",
       "16                                      Gato ragdoll   \n",
       "17                    Gato thai o siamés tradicional   \n",
       "18                      Gato german rex o rex alemán   \n",
       "19                         Gato don sphynx o donskoy   \n",
       "20                              Gato neva masquerade   \n",
       "21                                         Van turco   \n",
       "22                                     Gato snowshoe   \n",
       "23                            Gato Chantilly-Tiffany   \n",
       "24                                   Gato colorpoint   \n",
       "25                                 Gato angora turco   \n",
       "26                                      Gato minskin   \n",
       "27                                       Gato Habana   \n",
       "28                                Gato común europeo   \n",
       "29                                        Ragamuffin   \n",
       "30                                            Ashera   \n",
       "31                      Gato británico de pelo largo   \n",
       "32                                   Gato khao manee   \n",
       "33                                      Gato caracat   \n",
       "34                         Gato singapura o singapur   \n",
       "35                                Gato highland fold   \n",
       "36                            Gato bobtail americano   \n",
       "37                                     Gato ural rex   \n",
       "38                                       Gato cymric   \n",
       "39                                      Gato skookum   \n",
       "40                              Gato bobtail japonés   \n",
       "41                                       Gato toyger   \n",
       "42                                     Gato munchkin   \n",
       "43                            Gato american wirehair   \n",
       "44                                    Gato pixie bob   \n",
       "\n",
       "                                          short_descr  \n",
       "0   The Maine coon cat stands out for being a larg...  \n",
       "1   The Siamese cat is probably one of the most po...  \n",
       "2   We can easily recognize the Persian cat by its...  \n",
       "3   The kohana cat is a feline from Hawaii and, in...  \n",
       "4   The British Shorthair, also known as the Briti...  \n",
       "5   The elf cat is a mix between the sphynx cat an...  \n",
       "6   The baby cat is small in size and arose as a r...  \n",
       "7   The Ukrainian levkoy cat is a breed of the 21s...  \n",
       "8   If you have heard of a lykoi cat or are wonder...  \n",
       "9   The American shorthair is a medium-sized cat, ...  \n",
       "10  The Bengal cat or Bengali is a hybrid that is ...  \n",
       "11  The Himalayan cat is a cross between the Persi...  \n",
       "12  The Manx cat is one of the most peculiar for i...  \n",
       "13  A beautiful and striking pearl gray, with a lo...  \n",
       "14  The Ceylon cat is a rare feline, as there are ...  \n",
       "15  The Kurilian Bobtail originated less than 200 ...  \n",
       "16  The ragdoll cat emerged in 1960 in California,...  \n",
       "17  The Thai cat, or traditional Siamese, is the f...  \n",
       "18     The German Rex is the first Rex cat to appear.  \n",
       "19  The don sphynx cat, also known as the donskoy ...  \n",
       "20  The Neva masquerade cat is the colorpoint patt...  \n",
       "21  With a fluffy and cottony coat, captivating lo...  \n",
       "22  Fruit of crosses between Siamese and American ...  \n",
       "23  The Chantilly-Tiffany cat is a feline of Ameri...  \n",
       "24  The colorpoint cat is a combination of Siamese...  \n",
       "25  Coming from far away Turkey, Angora cats are o...  \n",
       "26  Minskin cats are small cats with short legs an...  \n",
       "27  The Habana cat comes from 19th century Europe,...  \n",
       "28  The European common cat is also known as \"Roma...  \n",
       "29  Ragamuffins are huge cats with a particular an...  \n",
       "30  The Ashera cat is undoubtedly a very popular c...  \n",
       "31  The British long-haired cat comes from the cro...  \n",
       "32  The khae manee cats are cats from Thailand tha...  \n",
       "33  The beginning of the caracat cats was totally ...  \n",
       "34  The singapura cat is a very small breed, but s...  \n",
       "35  Highland fold cats are a longhaired variant of...  \n",
       "36  The American bobtail cat breed appeared sponta...  \n",
       "37  The ural rex cat is a very familiar, affection...  \n",
       "38     Cymric cats are actually longhaired manx cats.  \n",
       "39  The skookum cat breed arises as a result of in...  \n",
       "40  Although it tends to be confused with the Amer...  \n",
       "41  Do you know that there is a cat breed that is ...  \n",
       "42  Small to medium in size, the munchkin cat has ...  \n",
       "43  The American wirehair cat is one of the newest...  \n",
       "44  Similar in appearance to the bobcat, as both h...  "
      ]
     },
     "execution_count": 19,
     "metadata": {},
     "output_type": "execute_result"
    }
   ],
   "source": [
    "catsdf.head(45)"
   ]
  },
  {
   "cell_type": "code",
   "execution_count": 20,
   "id": "63339d91",
   "metadata": {},
   "outputs": [
    {
     "data": {
      "text/plain": [
       "array(['Maine coon', 'Siamés', 'Gato persa', 'Gato kohana',\n",
       "       'British shorthair - Gato británico de pelo corto', 'Gato elfo',\n",
       "       'Gato bambino', 'Gato Levkoy ucraniano', 'Lykoi o gato lobo',\n",
       "       'Gato americano de pelo corto', 'Gato de Bengala o bengalí',\n",
       "       'Himalayo', 'Gato manx', 'Gato nebelung', 'Gato ceilán',\n",
       "       'Gato kurilian bobtail', 'Gato ragdoll',\n",
       "       'Gato thai o siamés tradicional', 'Gato german rex o rex alemán',\n",
       "       'Gato don sphynx o donskoy', 'Gato neva masquerade', 'Van turco',\n",
       "       'Gato snowshoe', 'Gato Chantilly-Tiffany', 'Gato colorpoint',\n",
       "       'Gato angora turco', 'Gato minskin', 'Gato Habana',\n",
       "       'Gato común europeo', 'Ragamuffin', 'Ashera',\n",
       "       'Gato británico de pelo largo', 'Gato khao manee', 'Gato caracat',\n",
       "       'Gato singapura o singapur', 'Gato highland fold',\n",
       "       'Gato bobtail americano', 'Gato ural rex', 'Gato cymric',\n",
       "       'Gato skookum', 'Gato bobtail japonés', 'Gato toyger',\n",
       "       'Gato munchkin', 'Gato american wirehair', 'Gato pixie bob',\n",
       "       'Gato tonkinés', 'Gato LaPerm', 'Gato burmilla',\n",
       "       'Gato curl americano', 'Gato montés', 'Gato burmés',\n",
       "       'Gato chausie', 'Gato devon rex',\n",
       "       'Gato oriental de pelo largo o javanés', 'Gato scottish fold',\n",
       "       'Gato korat', 'Gato somalí', 'Gato sphynx o esfinge', 'Savannah',\n",
       "       'Gato cartujo o chartreux', 'Gato sokoke', 'Gato selkirk rex',\n",
       "       'Gato cornish rex', 'Ocicat o gato ocelote', 'Gato peterbald',\n",
       "       'Gato oriental de pelo corto', 'Gato siberiano',\n",
       "       'Gato exótico de pelo corto', 'Gato birmano',\n",
       "       'Gato bosque de Noruega', 'El gato abisinio', 'Gato balinés',\n",
       "       'Gato azul ruso', 'Gato bombay', 'Mau egipcio', 'Australian Mist'],\n",
       "      dtype=object)"
      ]
     },
     "execution_count": 20,
     "metadata": {},
     "output_type": "execute_result"
    }
   ],
   "source": [
    "catsdf['name'].unique()"
   ]
  },
  {
   "cell_type": "code",
   "execution_count": 21,
   "id": "d98cce60",
   "metadata": {},
   "outputs": [],
   "source": [
    "def renamecats(name):\n",
    "    \n",
    "    nm = []\n",
    "\n",
    "    for catname in name:\n",
    "        \n",
    "        if catname.startswith('Gato '):\n",
    "        \n",
    "            nmc = catname.replace('Gato ', '')\n",
    "            \n",
    "            nm.append(nmc)\n",
    "            \n",
    "        else:\n",
    "            \n",
    "            nm.append(catname)\n",
    "            \n",
    "    return(nm)"
   ]
  },
  {
   "cell_type": "code",
   "execution_count": 22,
   "id": "a190b48c",
   "metadata": {},
   "outputs": [],
   "source": [
    "name = catsdf['name'].tolist()"
   ]
  },
  {
   "cell_type": "code",
   "execution_count": 23,
   "id": "5386d0a1",
   "metadata": {},
   "outputs": [
    {
     "data": {
      "text/plain": [
       "['Maine coon',\n",
       " 'Siamés',\n",
       " 'persa',\n",
       " 'kohana',\n",
       " 'British shorthair - Gato británico de pelo corto',\n",
       " 'elfo',\n",
       " 'bambino',\n",
       " 'Levkoy ucraniano',\n",
       " 'Lykoi o gato lobo',\n",
       " 'americano de pelo corto',\n",
       " 'de Bengala o bengalí',\n",
       " 'Himalayo',\n",
       " 'manx',\n",
       " 'nebelung',\n",
       " 'ceilán',\n",
       " 'kurilian bobtail',\n",
       " 'ragdoll',\n",
       " 'thai o siamés tradicional',\n",
       " 'german rex o rex alemán',\n",
       " 'don sphynx o donskoy',\n",
       " 'neva masquerade',\n",
       " 'Van turco',\n",
       " 'snowshoe',\n",
       " 'Chantilly-Tiffany',\n",
       " 'colorpoint',\n",
       " 'angora turco',\n",
       " 'minskin',\n",
       " 'Habana',\n",
       " 'común europeo',\n",
       " 'Ragamuffin',\n",
       " 'Ashera',\n",
       " 'británico de pelo largo',\n",
       " 'khao manee',\n",
       " 'caracat',\n",
       " 'singapura o singapur',\n",
       " 'highland fold',\n",
       " 'bobtail americano',\n",
       " 'ural rex',\n",
       " 'cymric',\n",
       " 'skookum',\n",
       " 'bobtail japonés',\n",
       " 'toyger',\n",
       " 'munchkin',\n",
       " 'american wirehair',\n",
       " 'pixie bob',\n",
       " 'tonkinés',\n",
       " 'LaPerm',\n",
       " 'burmilla',\n",
       " 'curl americano',\n",
       " 'montés',\n",
       " 'burmés',\n",
       " 'chausie',\n",
       " 'devon rex',\n",
       " 'oriental de pelo largo o javanés',\n",
       " 'scottish fold',\n",
       " 'korat',\n",
       " 'somalí',\n",
       " 'sphynx o esfinge',\n",
       " 'Savannah',\n",
       " 'cartujo o chartreux',\n",
       " 'sokoke',\n",
       " 'selkirk rex',\n",
       " 'cornish rex',\n",
       " 'Ocicat o gato ocelote',\n",
       " 'peterbald',\n",
       " 'oriental de pelo corto',\n",
       " 'siberiano',\n",
       " 'exótico de pelo corto',\n",
       " 'birmano',\n",
       " 'bosque de Noruega',\n",
       " 'El gato abisinio',\n",
       " 'balinés',\n",
       " 'azul ruso',\n",
       " 'bombay',\n",
       " 'Mau egipcio',\n",
       " 'Australian Mist']"
      ]
     },
     "execution_count": 23,
     "metadata": {},
     "output_type": "execute_result"
    }
   ],
   "source": [
    "renamecats(name)"
   ]
  },
  {
   "cell_type": "code",
   "execution_count": 24,
   "id": "b4b2a1e3",
   "metadata": {},
   "outputs": [],
   "source": [
    "catsdf['name'] = renamecats(catsdf['name'])"
   ]
  },
  {
   "cell_type": "code",
   "execution_count": 25,
   "id": "83448021",
   "metadata": {},
   "outputs": [
    {
     "data": {
      "text/plain": [
       "name   short_descr\n",
       "False  False          76\n",
       "dtype: int64"
      ]
     },
     "execution_count": 25,
     "metadata": {},
     "output_type": "execute_result"
    }
   ],
   "source": [
    "catsdf.isna().value_counts()"
   ]
  },
  {
   "cell_type": "code",
   "execution_count": 26,
   "id": "4aa59211",
   "metadata": {},
   "outputs": [],
   "source": [
    "catsdf['name'] = catsdf['name'].apply(translate_text)\n",
    "\n"
   ]
  },
  {
   "cell_type": "code",
   "execution_count": 27,
   "id": "988d5ff9",
   "metadata": {},
   "outputs": [
    {
     "data": {
      "text/plain": [
       "array(['Maine Coon', 'Siamese', 'persian lamb.', 'kohana',\n",
       "       'British Shorthair - British Shorthair Cat', 'Elf', 'Bambino',\n",
       "       'Ukrainian Levkoy', 'Lykoi or Wolf Cat', 'American shorthair cat',\n",
       "       'of Bengal or Bengali', 'Himalayan', 'Manx', 'nebelung', 'Ceylon',\n",
       "       'kurilian bobtail', 'Ragdoll', 'thai or traditional Siamese',\n",
       "       'german Rex', 'don sphynx or donskoy', 'masquerade snow',\n",
       "       'Turkish van', 'Snowshoe cat', 'Chantilly-Tiffany', 'colorpoint',\n",
       "       'turkish angora', 'minskin', 'Havana', 'DSH ', 'Ragamuffin',\n",
       "       'Ashera', 'british Longhaired', 'khao manee', 'caracat',\n",
       "       'singapura or singapur', 'highland fold', 'american bobtail',\n",
       "       'ural rex', 'cymric', 'skookum', 'Japanese bobtail cat', 'toyger',\n",
       "       'munchkin', 'american Wirehair', 'pixie Bob', 'Tonkinese',\n",
       "       'LaPerm', 'burmilla', 'american Curl', 'montese', 'burmese',\n",
       "       'chausie', '<g>Devon Rex.</g>', 'oriental Longhaired or Javanese',\n",
       "       'Scottish Fold', 'Korat', 'Somali', 'sphynx or sphinx', 'Savannah',\n",
       "       'chartreux', 'sokoke', 'Selkirk Rex', 'cornish Rex',\n",
       "       'Ocicat or ocelot cat', 'peterbald', 'Oriental shorthaired cat',\n",
       "       'Siberia', 'Exotic shorthaired cat', 'Myanmar', 'norway forest',\n",
       "       'The Abyssinian Cat', 'Balinese', 'Russian Blue', 'Bombay ducks',\n",
       "       'Egyptian mau cat (organism)', 'Australian Mist'], dtype=object)"
      ]
     },
     "execution_count": 27,
     "metadata": {},
     "output_type": "execute_result"
    }
   ],
   "source": [
    "catsdf['name'].unique()"
   ]
  },
  {
   "cell_type": "code",
   "execution_count": 28,
   "id": "af244e83",
   "metadata": {},
   "outputs": [],
   "source": [
    "def replace_invalid_values(catsdf, name, valid_values, default_value='drop'):\n",
    "    \"\"\"\n",
    "    Itera por cada elemento de una columna y reemplaza aquellos que no son iguales a alguno de los valores válidos por el valor por defecto.\n",
    "    \n",
    "    Args:\n",
    "    - df: DataFrame sobre el cual se va a iterar.\n",
    "    - column_name: str con el nombre de la columna a iterar.\n",
    "    - valid_values: lista de valores válidos.\n",
    "    - default_value: valor por defecto que se establece para los elementos que no son válidos.\n",
    "    \n",
    "    Returns:\n",
    "    - None. El DataFrame se modifica inplace.\n",
    "    \"\"\"\n",
    "    for i, value in catsdf[name].iteritems():\n",
    "        if value not in valid_values:\n",
    "            catsdf.at[i, name] = default_value\n"
   ]
  },
  {
   "cell_type": "code",
   "execution_count": 29,
   "id": "d86d3b3c",
   "metadata": {},
   "outputs": [],
   "source": [
    "valid_values = ['Abyssinian', 'American Bobtail', 'American Curl',\n",
    "           'American Shorthair', 'American Wirehair', 'Balinese-Javanese',\n",
    "           'Bengal', 'Birman', 'Bombay', 'British Shorthair', 'Burmese',\n",
    "           'Chartreux', 'Cornish Rex', 'Devon Rex', 'Egyptian Mau',\n",
    "           'European Burmese', 'Exotic Shorthair', 'Havana Brown',\n",
    "           'Himalayan', 'Japanese Bobtail', 'Korat', 'LaPerm', 'Maine Coon',\n",
    "           'Manx', 'Munchkin', 'Norwegian Forest', 'Ocicat', 'Oriental',\n",
    "           'Persian', 'Peterbald', 'Pixiebob', 'Ragdoll', 'Russian Blue',\n",
    "           'Scottish Fold', 'Selkirk Rex', 'Siamese', 'Siberian', 'Singapura',\n",
    "           'Somali', 'Sphynx', 'Tonkinese', 'Toyger', 'Turkish Angora',\n",
    "           'Turkish Van']\n",
    "\n",
    "replace_invalid_values(catsdf, 'name', valid_values, 'drop')\n"
   ]
  },
  {
   "cell_type": "code",
   "execution_count": 30,
   "id": "4ab8ea0e",
   "metadata": {},
   "outputs": [
    {
     "data": {
      "text/html": [
       "<div>\n",
       "<style scoped>\n",
       "    .dataframe tbody tr th:only-of-type {\n",
       "        vertical-align: middle;\n",
       "    }\n",
       "\n",
       "    .dataframe tbody tr th {\n",
       "        vertical-align: top;\n",
       "    }\n",
       "\n",
       "    .dataframe thead th {\n",
       "        text-align: right;\n",
       "    }\n",
       "</style>\n",
       "<table border=\"1\" class=\"dataframe\">\n",
       "  <thead>\n",
       "    <tr style=\"text-align: right;\">\n",
       "      <th></th>\n",
       "      <th>name</th>\n",
       "      <th>short_descr</th>\n",
       "    </tr>\n",
       "  </thead>\n",
       "  <tbody>\n",
       "    <tr>\n",
       "      <th>0</th>\n",
       "      <td>drop</td>\n",
       "      <td>The Maine coon cat stands out for being a larg...</td>\n",
       "    </tr>\n",
       "    <tr>\n",
       "      <th>1</th>\n",
       "      <td>drop</td>\n",
       "      <td>The Siamese cat is probably one of the most po...</td>\n",
       "    </tr>\n",
       "    <tr>\n",
       "      <th>2</th>\n",
       "      <td>drop</td>\n",
       "      <td>We can easily recognize the Persian cat by its...</td>\n",
       "    </tr>\n",
       "    <tr>\n",
       "      <th>3</th>\n",
       "      <td>drop</td>\n",
       "      <td>The kohana cat is a feline from Hawaii and, in...</td>\n",
       "    </tr>\n",
       "    <tr>\n",
       "      <th>4</th>\n",
       "      <td>drop</td>\n",
       "      <td>The British Shorthair, also known as the Briti...</td>\n",
       "    </tr>\n",
       "    <tr>\n",
       "      <th>...</th>\n",
       "      <td>...</td>\n",
       "      <td>...</td>\n",
       "    </tr>\n",
       "    <tr>\n",
       "      <th>21</th>\n",
       "      <td>drop</td>\n",
       "      <td>The Balinese is a cat that has its origins in ...</td>\n",
       "    </tr>\n",
       "    <tr>\n",
       "      <th>22</th>\n",
       "      <td>drop</td>\n",
       "      <td>The Russian blue cat is undoubtedly one of the...</td>\n",
       "    </tr>\n",
       "    <tr>\n",
       "      <th>23</th>\n",
       "      <td>drop</td>\n",
       "      <td>The Bombay Cat is undoubtedly one of the most ...</td>\n",
       "    </tr>\n",
       "    <tr>\n",
       "      <th>24</th>\n",
       "      <td>drop</td>\n",
       "      <td>We found in the Egyptian mau one of the most e...</td>\n",
       "    </tr>\n",
       "    <tr>\n",
       "      <th>25</th>\n",
       "      <td>drop</td>\n",
       "      <td>The Australian mist or fog cat is a breed deve...</td>\n",
       "    </tr>\n",
       "  </tbody>\n",
       "</table>\n",
       "<p>76 rows × 2 columns</p>\n",
       "</div>"
      ],
      "text/plain": [
       "    name                                        short_descr\n",
       "0   drop  The Maine coon cat stands out for being a larg...\n",
       "1   drop  The Siamese cat is probably one of the most po...\n",
       "2   drop  We can easily recognize the Persian cat by its...\n",
       "3   drop  The kohana cat is a feline from Hawaii and, in...\n",
       "4   drop  The British Shorthair, also known as the Briti...\n",
       "..   ...                                                ...\n",
       "21  drop  The Balinese is a cat that has its origins in ...\n",
       "22  drop  The Russian blue cat is undoubtedly one of the...\n",
       "23  drop  The Bombay Cat is undoubtedly one of the most ...\n",
       "24  drop  We found in the Egyptian mau one of the most e...\n",
       "25  drop  The Australian mist or fog cat is a breed deve...\n",
       "\n",
       "[76 rows x 2 columns]"
      ]
     },
     "execution_count": 30,
     "metadata": {},
     "output_type": "execute_result"
    }
   ],
   "source": [
    "catsdf"
   ]
  },
  {
   "cell_type": "code",
   "execution_count": 31,
   "id": "507536a8",
   "metadata": {},
   "outputs": [],
   "source": [
    "df = pd.read_csv('C://Users//FX506//Proyect_ETL//CSV//cat.csv')"
   ]
  },
  {
   "cell_type": "code",
   "execution_count": 32,
   "id": "3c80beb5",
   "metadata": {},
   "outputs": [
    {
     "data": {
      "text/html": [
       "<div>\n",
       "<style scoped>\n",
       "    .dataframe tbody tr th:only-of-type {\n",
       "        vertical-align: middle;\n",
       "    }\n",
       "\n",
       "    .dataframe tbody tr th {\n",
       "        vertical-align: top;\n",
       "    }\n",
       "\n",
       "    .dataframe thead th {\n",
       "        text-align: right;\n",
       "    }\n",
       "</style>\n",
       "<table border=\"1\" class=\"dataframe\">\n",
       "  <thead>\n",
       "    <tr style=\"text-align: right;\">\n",
       "      <th></th>\n",
       "      <th>name</th>\n",
       "      <th>short_descr</th>\n",
       "      <th>href</th>\n",
       "      <th>img_url</th>\n",
       "    </tr>\n",
       "  </thead>\n",
       "  <tbody>\n",
       "    <tr>\n",
       "      <th>0</th>\n",
       "      <td>Abyssinian</td>\n",
       "      <td>Abyssinians are highly intelligent and intense...</td>\n",
       "      <td>https://www.purina.com/breeds/abyssinian-cat</td>\n",
       "      <td>https://www.purina.com/sites/g/files/auxxlc196...</td>\n",
       "    </tr>\n",
       "    <tr>\n",
       "      <th>1</th>\n",
       "      <td>American Bobtail</td>\n",
       "      <td>The American Bobtail is an athletic breed that...</td>\n",
       "      <td>https://www.purina.com/cats/cat-breeds/america...</td>\n",
       "      <td>https://www.purina.com/sites/g/files/auxxlc196...</td>\n",
       "    </tr>\n",
       "  </tbody>\n",
       "</table>\n",
       "</div>"
      ],
      "text/plain": [
       "               name                                        short_descr  \\\n",
       "0        Abyssinian  Abyssinians are highly intelligent and intense...   \n",
       "1  American Bobtail  The American Bobtail is an athletic breed that...   \n",
       "\n",
       "                                                href  \\\n",
       "0       https://www.purina.com/breeds/abyssinian-cat   \n",
       "1  https://www.purina.com/cats/cat-breeds/america...   \n",
       "\n",
       "                                             img_url  \n",
       "0  https://www.purina.com/sites/g/files/auxxlc196...  \n",
       "1  https://www.purina.com/sites/g/files/auxxlc196...  "
      ]
     },
     "execution_count": 32,
     "metadata": {},
     "output_type": "execute_result"
    }
   ],
   "source": [
    "df.head(2)"
   ]
  },
  {
   "cell_type": "code",
   "execution_count": 33,
   "id": "bfc89283",
   "metadata": {},
   "outputs": [],
   "source": [
    "df.rename(columns={ 'name' : 'name'}, inplace=True)"
   ]
  },
  {
   "cell_type": "code",
   "execution_count": 34,
   "id": "65e8ba5f",
   "metadata": {},
   "outputs": [],
   "source": [
    "df.rename(columns={ 'short_descr' : 'short_descr'}, inplace=True)"
   ]
  },
  {
   "cell_type": "code",
   "execution_count": 35,
   "id": "b5803235",
   "metadata": {},
   "outputs": [
    {
     "name": "stdout",
     "output_type": "stream",
     "text": [
      "                name_x                                        short_descr  \\\n",
      "0           Abyssinian  Abyssinians are highly intelligent and intense...   \n",
      "1     American Bobtail  The American Bobtail is an athletic breed that...   \n",
      "2        American Curl  With unique ears that curl back, and an inquis...   \n",
      "3   American Shorthair  Formerly used to keep rodents and vermin away ...   \n",
      "4    American Wirehair  Intelligent and highly adaptable, the American...   \n",
      "5    Balinese-Javanese  The Balinese, also known as Javanese depending...   \n",
      "6               Bengal  Bengal Cats are curious and confident with the...   \n",
      "7               Birman  The Birman is a cat of distinction as well as ...   \n",
      "8               Bombay  The Bombay is an easy-going, yet energetic cat...   \n",
      "9    British Shorthair  The British Shorthair is an easygoing feline. ...   \n",
      "10             Burmese  The Burmese thrives on companionship with her ...   \n",
      "11           Chartreux                                                  -   \n",
      "12         Cornish Rex                                                  -   \n",
      "13           Devon Rex  Because of her curly coat and her tail, which ...   \n",
      "14        Egyptian Mau  The Egyptian Mau is fiercely devoted to her hu...   \n",
      "15    European Burmese                                                  -   \n",
      "16    Exotic Shorthair  Known as the lazy man’s Persian, the Exotic Sh...   \n",
      "17        Havana Brown                                                  -   \n",
      "18           Himalayan  The Himalayan Cat is a sweet and mild-tempered...   \n",
      "19    Japanese Bobtail                                                  -   \n",
      "20               Korat                                                  -   \n",
      "21              LaPerm                                                  -   \n",
      "22          Maine Coon  Maine Coon cats are gentle natured and friendl...   \n",
      "23                Manx  When she’s not hunting bugs or rodents or stan...   \n",
      "24            Munchkin  They may have short legs, but Munchkin Cats do...   \n",
      "25    Norwegian Forest  The Norwegian Forest Cat is a gentle giant. Th...   \n",
      "26              Ocicat                                                  -   \n",
      "27            Oriental  The Oriental is a sleek, elegant cat with larg...   \n",
      "28             Persian  The docile Persian is a quiet feline who enjoy...   \n",
      "29           Peterbald                                                  -   \n",
      "30            Pixiebob                                                  -   \n",
      "31          Ragamuffin                                                  -   \n",
      "32             Ragdoll  Ragdolls are loving, smart and playful. They s...   \n",
      "33        Russian Blue  The Russian Blue is gentle, quiet and even shy...   \n",
      "34            Savannah  The Savannah Cat’s personality is playful, adv...   \n",
      "35       Scottish Fold  The smart and friendly Scottish Fold loves pla...   \n",
      "36         Selkirk Rex                                                  -   \n",
      "37             Siamese  Siamese Cats are incredibly social, intelligen...   \n",
      "38            Siberian  This friendly and affectionate feline will fol...   \n",
      "39           Singapura                                                  -   \n",
      "40              Somali                                                  -   \n",
      "41              Sphynx  The hairless Sphynx is muscular with broad ear...   \n",
      "42           Tonkinese                                                  -   \n",
      "43              Toyger                                                  -   \n",
      "44      Turkish Angora  The Turkish Angora may have been the first lon...   \n",
      "45         Turkish Van                                                  -   \n",
      "\n",
      "                                                 href  \\\n",
      "0        https://www.purina.com/breeds/abyssinian-cat   \n",
      "1   https://www.purina.com/cats/cat-breeds/america...   \n",
      "2   https://www.purina.com/cats/cat-breeds/america...   \n",
      "3   https://www.purina.com/cats/cat-breeds/america...   \n",
      "4   https://www.purina.com/cats/cat-breeds/america...   \n",
      "5   https://www.purina.com/cats/cat-breeds/balines...   \n",
      "6            https://www.purina.com/breeds/bengal-cat   \n",
      "7      https://www.purina.com/breeds/birman-cat-breed   \n",
      "8       https://www.purina.com/cats/cat-breeds/bombay   \n",
      "9   https://www.purina.com/cats/cat-breeds/british...   \n",
      "10     https://www.purina.com/cats/cat-breeds/burmese   \n",
      "11   https://www.purina.com/cats/cat-breeds/chartreux   \n",
      "12  https://www.purina.com/cats/cat-breeds/cornish...   \n",
      "13   https://www.purina.com/cats/cat-breeds/devon-rex   \n",
      "14  https://www.purina.com/cats/cat-breeds/egyptia...   \n",
      "15  https://www.purina.com/cats/cat-breeds/europea...   \n",
      "16  https://www.purina.com/cats/cat-breeds/exotic-...   \n",
      "17  https://www.purina.com/cats/cat-breeds/havana-...   \n",
      "18   https://www.purina.com/cats/cat-breeds/himalayan   \n",
      "19  https://www.purina.com/cats/cat-breeds/japanes...   \n",
      "20       https://www.purina.com/cats/cat-breeds/korat   \n",
      "21      https://www.purina.com/cats/cat-breeds/laperm   \n",
      "22  https://www.purina.com/cats/cat-breeds/maine-coon   \n",
      "23        https://www.purina.com/cats/cat-breeds/manx   \n",
      "24    https://www.purina.com/cats/cat-breeds/munchkin   \n",
      "25  https://www.purina.com/cats/cat-breeds/norwegi...   \n",
      "26      https://www.purina.com/cats/cat-breeds/ocicat   \n",
      "27    https://www.purina.com/cats/cat-breeds/oriental   \n",
      "28     https://www.purina.com/cats/cat-breeds/persian   \n",
      "29   https://www.purina.com/cats/cat-breeds/peterbald   \n",
      "30    https://www.purina.com/cats/cat-breeds/pixiebob   \n",
      "31  https://www.purina.com/cats/cat-breeds/ragamuffin   \n",
      "32     https://www.purina.com/cats/cat-breeds/ragdoll   \n",
      "33  https://www.purina.com/cats/cat-breeds/russian...   \n",
      "34    https://www.purina.com/cats/cat-breeds/savannah   \n",
      "35  https://www.purina.com/cats/cat-breeds/scottis...   \n",
      "36  https://www.purina.com/cats/cat-breeds/selkirk...   \n",
      "37     https://www.purina.com/cats/cat-breeds/siamese   \n",
      "38    https://www.purina.com/cats/cat-breeds/siberian   \n",
      "39   https://www.purina.com/cats/cat-breeds/singapura   \n",
      "40      https://www.purina.com/cats/cat-breeds/somali   \n",
      "41      https://www.purina.com/cats/cat-breeds/sphynx   \n",
      "42   https://www.purina.com/cats/cat-breeds/tonkinese   \n",
      "43     https://www.purina.com/breeds/toyger-cat-breed   \n",
      "44  https://www.purina.com/cats/cat-breeds/turkish...   \n",
      "45  https://www.purina.com/cats/cat-breeds/turkish...   \n",
      "\n",
      "                                              img_url name_y  \n",
      "0   https://www.purina.com/sites/g/files/auxxlc196...    NaN  \n",
      "1   https://www.purina.com/sites/g/files/auxxlc196...    NaN  \n",
      "2   https://www.purina.com/sites/g/files/auxxlc196...    NaN  \n",
      "3   https://www.purina.com/sites/g/files/auxxlc196...    NaN  \n",
      "4   https://www.purina.com/sites/g/files/auxxlc196...    NaN  \n",
      "5   https://www.purina.com/sites/g/files/auxxlc196...    NaN  \n",
      "6   https://www.purina.com/sites/g/files/auxxlc196...    NaN  \n",
      "7   https://www.purina.com/sites/g/files/auxxlc196...    NaN  \n",
      "8   https://www.purina.com/sites/g/files/auxxlc196...    NaN  \n",
      "9   https://www.purina.com/sites/g/files/auxxlc196...    NaN  \n",
      "10  https://www.purina.com/sites/g/files/auxxlc196...    NaN  \n",
      "11  https://www.purina.com/sites/g/files/auxxlc196...    NaN  \n",
      "12  https://www.purina.com/sites/g/files/auxxlc196...    NaN  \n",
      "13  https://www.purina.com/sites/g/files/auxxlc196...    NaN  \n",
      "14  https://www.purina.com/sites/g/files/auxxlc196...    NaN  \n",
      "15  https://www.purina.com/sites/g/files/auxxlc196...    NaN  \n",
      "16  https://www.purina.com/sites/g/files/auxxlc196...    NaN  \n",
      "17  https://www.purina.com/sites/g/files/auxxlc196...    NaN  \n",
      "18  https://www.purina.com/sites/g/files/auxxlc196...    NaN  \n",
      "19  https://www.purina.com/sites/g/files/auxxlc196...    NaN  \n",
      "20  https://www.purina.com/sites/g/files/auxxlc196...    NaN  \n",
      "21  https://www.purina.com/sites/g/files/auxxlc196...    NaN  \n",
      "22  https://www.purina.com/sites/g/files/auxxlc196...    NaN  \n",
      "23  https://www.purina.com/sites/g/files/auxxlc196...    NaN  \n",
      "24  https://www.purina.com/sites/g/files/auxxlc196...    NaN  \n",
      "25  https://www.purina.com/sites/g/files/auxxlc196...    NaN  \n",
      "26  https://www.purina.com/sites/g/files/auxxlc196...    NaN  \n",
      "27  https://www.purina.com/sites/g/files/auxxlc196...    NaN  \n",
      "28  https://www.purina.com/sites/g/files/auxxlc196...    NaN  \n",
      "29  https://www.purina.com/sites/g/files/auxxlc196...    NaN  \n",
      "30  https://www.purina.com/sites/g/files/auxxlc196...    NaN  \n",
      "31  https://www.purina.com/sites/g/files/auxxlc196...    NaN  \n",
      "32  https://www.purina.com/sites/g/files/auxxlc196...    NaN  \n",
      "33  https://www.purina.com/sites/g/files/auxxlc196...    NaN  \n",
      "34  https://www.purina.com/sites/g/files/auxxlc196...    NaN  \n",
      "35  https://www.purina.com/sites/g/files/auxxlc196...    NaN  \n",
      "36  https://www.purina.com/sites/g/files/auxxlc196...    NaN  \n",
      "37  https://www.purina.com/sites/g/files/auxxlc196...    NaN  \n",
      "38  https://www.purina.com/sites/g/files/auxxlc196...    NaN  \n",
      "39  https://www.purina.com/sites/g/files/auxxlc196...    NaN  \n",
      "40  https://www.purina.com/sites/g/files/auxxlc196...    NaN  \n",
      "41  https://www.purina.com/sites/g/files/auxxlc196...    NaN  \n",
      "42  https://www.purina.com/sites/g/files/auxxlc196...    NaN  \n",
      "43  https://www.purina.com/sites/g/files/auxxlc196...    NaN  \n",
      "44  https://www.purina.com/sites/g/files/auxxlc196...    NaN  \n",
      "45  https://www.purina.com/sites/g/files/auxxlc196...    NaN  \n"
     ]
    }
   ],
   "source": [
    "df_merged = pd.merge(df, catsdf, on='short_descr', how='left')\n",
    "\n",
    "# Imprimir DataFrame resultante del inner join\n",
    "print(df_merged)"
   ]
  },
  {
   "cell_type": "code",
   "execution_count": 36,
   "id": "95c3cec8",
   "metadata": {},
   "outputs": [],
   "source": [
    "df_merged = df_merged.drop(['name_y'], axis=1)"
   ]
  },
  {
   "cell_type": "code",
   "execution_count": 37,
   "id": "d06ef9c3",
   "metadata": {},
   "outputs": [
    {
     "data": {
      "text/html": [
       "<div>\n",
       "<style scoped>\n",
       "    .dataframe tbody tr th:only-of-type {\n",
       "        vertical-align: middle;\n",
       "    }\n",
       "\n",
       "    .dataframe tbody tr th {\n",
       "        vertical-align: top;\n",
       "    }\n",
       "\n",
       "    .dataframe thead th {\n",
       "        text-align: right;\n",
       "    }\n",
       "</style>\n",
       "<table border=\"1\" class=\"dataframe\">\n",
       "  <thead>\n",
       "    <tr style=\"text-align: right;\">\n",
       "      <th></th>\n",
       "      <th>name_x</th>\n",
       "      <th>short_descr</th>\n",
       "      <th>href</th>\n",
       "      <th>img_url</th>\n",
       "    </tr>\n",
       "  </thead>\n",
       "  <tbody>\n",
       "    <tr>\n",
       "      <th>0</th>\n",
       "      <td>Abyssinian</td>\n",
       "      <td>Abyssinians are highly intelligent and intense...</td>\n",
       "      <td>https://www.purina.com/breeds/abyssinian-cat</td>\n",
       "      <td>https://www.purina.com/sites/g/files/auxxlc196...</td>\n",
       "    </tr>\n",
       "    <tr>\n",
       "      <th>1</th>\n",
       "      <td>American Bobtail</td>\n",
       "      <td>The American Bobtail is an athletic breed that...</td>\n",
       "      <td>https://www.purina.com/cats/cat-breeds/america...</td>\n",
       "      <td>https://www.purina.com/sites/g/files/auxxlc196...</td>\n",
       "    </tr>\n",
       "    <tr>\n",
       "      <th>2</th>\n",
       "      <td>American Curl</td>\n",
       "      <td>With unique ears that curl back, and an inquis...</td>\n",
       "      <td>https://www.purina.com/cats/cat-breeds/america...</td>\n",
       "      <td>https://www.purina.com/sites/g/files/auxxlc196...</td>\n",
       "    </tr>\n",
       "    <tr>\n",
       "      <th>3</th>\n",
       "      <td>American Shorthair</td>\n",
       "      <td>Formerly used to keep rodents and vermin away ...</td>\n",
       "      <td>https://www.purina.com/cats/cat-breeds/america...</td>\n",
       "      <td>https://www.purina.com/sites/g/files/auxxlc196...</td>\n",
       "    </tr>\n",
       "    <tr>\n",
       "      <th>4</th>\n",
       "      <td>American Wirehair</td>\n",
       "      <td>Intelligent and highly adaptable, the American...</td>\n",
       "      <td>https://www.purina.com/cats/cat-breeds/america...</td>\n",
       "      <td>https://www.purina.com/sites/g/files/auxxlc196...</td>\n",
       "    </tr>\n",
       "    <tr>\n",
       "      <th>5</th>\n",
       "      <td>Balinese-Javanese</td>\n",
       "      <td>The Balinese, also known as Javanese depending...</td>\n",
       "      <td>https://www.purina.com/cats/cat-breeds/balines...</td>\n",
       "      <td>https://www.purina.com/sites/g/files/auxxlc196...</td>\n",
       "    </tr>\n",
       "    <tr>\n",
       "      <th>6</th>\n",
       "      <td>Bengal</td>\n",
       "      <td>Bengal Cats are curious and confident with the...</td>\n",
       "      <td>https://www.purina.com/breeds/bengal-cat</td>\n",
       "      <td>https://www.purina.com/sites/g/files/auxxlc196...</td>\n",
       "    </tr>\n",
       "    <tr>\n",
       "      <th>7</th>\n",
       "      <td>Birman</td>\n",
       "      <td>The Birman is a cat of distinction as well as ...</td>\n",
       "      <td>https://www.purina.com/breeds/birman-cat-breed</td>\n",
       "      <td>https://www.purina.com/sites/g/files/auxxlc196...</td>\n",
       "    </tr>\n",
       "    <tr>\n",
       "      <th>8</th>\n",
       "      <td>Bombay</td>\n",
       "      <td>The Bombay is an easy-going, yet energetic cat...</td>\n",
       "      <td>https://www.purina.com/cats/cat-breeds/bombay</td>\n",
       "      <td>https://www.purina.com/sites/g/files/auxxlc196...</td>\n",
       "    </tr>\n",
       "    <tr>\n",
       "      <th>9</th>\n",
       "      <td>British Shorthair</td>\n",
       "      <td>The British Shorthair is an easygoing feline. ...</td>\n",
       "      <td>https://www.purina.com/cats/cat-breeds/british...</td>\n",
       "      <td>https://www.purina.com/sites/g/files/auxxlc196...</td>\n",
       "    </tr>\n",
       "    <tr>\n",
       "      <th>10</th>\n",
       "      <td>Burmese</td>\n",
       "      <td>The Burmese thrives on companionship with her ...</td>\n",
       "      <td>https://www.purina.com/cats/cat-breeds/burmese</td>\n",
       "      <td>https://www.purina.com/sites/g/files/auxxlc196...</td>\n",
       "    </tr>\n",
       "    <tr>\n",
       "      <th>11</th>\n",
       "      <td>Chartreux</td>\n",
       "      <td>-</td>\n",
       "      <td>https://www.purina.com/cats/cat-breeds/chartreux</td>\n",
       "      <td>https://www.purina.com/sites/g/files/auxxlc196...</td>\n",
       "    </tr>\n",
       "    <tr>\n",
       "      <th>12</th>\n",
       "      <td>Cornish Rex</td>\n",
       "      <td>-</td>\n",
       "      <td>https://www.purina.com/cats/cat-breeds/cornish...</td>\n",
       "      <td>https://www.purina.com/sites/g/files/auxxlc196...</td>\n",
       "    </tr>\n",
       "    <tr>\n",
       "      <th>13</th>\n",
       "      <td>Devon Rex</td>\n",
       "      <td>Because of her curly coat and her tail, which ...</td>\n",
       "      <td>https://www.purina.com/cats/cat-breeds/devon-rex</td>\n",
       "      <td>https://www.purina.com/sites/g/files/auxxlc196...</td>\n",
       "    </tr>\n",
       "    <tr>\n",
       "      <th>14</th>\n",
       "      <td>Egyptian Mau</td>\n",
       "      <td>The Egyptian Mau is fiercely devoted to her hu...</td>\n",
       "      <td>https://www.purina.com/cats/cat-breeds/egyptia...</td>\n",
       "      <td>https://www.purina.com/sites/g/files/auxxlc196...</td>\n",
       "    </tr>\n",
       "    <tr>\n",
       "      <th>15</th>\n",
       "      <td>European Burmese</td>\n",
       "      <td>-</td>\n",
       "      <td>https://www.purina.com/cats/cat-breeds/europea...</td>\n",
       "      <td>https://www.purina.com/sites/g/files/auxxlc196...</td>\n",
       "    </tr>\n",
       "    <tr>\n",
       "      <th>16</th>\n",
       "      <td>Exotic Shorthair</td>\n",
       "      <td>Known as the lazy man’s Persian, the Exotic Sh...</td>\n",
       "      <td>https://www.purina.com/cats/cat-breeds/exotic-...</td>\n",
       "      <td>https://www.purina.com/sites/g/files/auxxlc196...</td>\n",
       "    </tr>\n",
       "    <tr>\n",
       "      <th>17</th>\n",
       "      <td>Havana Brown</td>\n",
       "      <td>-</td>\n",
       "      <td>https://www.purina.com/cats/cat-breeds/havana-...</td>\n",
       "      <td>https://www.purina.com/sites/g/files/auxxlc196...</td>\n",
       "    </tr>\n",
       "    <tr>\n",
       "      <th>18</th>\n",
       "      <td>Himalayan</td>\n",
       "      <td>The Himalayan Cat is a sweet and mild-tempered...</td>\n",
       "      <td>https://www.purina.com/cats/cat-breeds/himalayan</td>\n",
       "      <td>https://www.purina.com/sites/g/files/auxxlc196...</td>\n",
       "    </tr>\n",
       "    <tr>\n",
       "      <th>19</th>\n",
       "      <td>Japanese Bobtail</td>\n",
       "      <td>-</td>\n",
       "      <td>https://www.purina.com/cats/cat-breeds/japanes...</td>\n",
       "      <td>https://www.purina.com/sites/g/files/auxxlc196...</td>\n",
       "    </tr>\n",
       "    <tr>\n",
       "      <th>20</th>\n",
       "      <td>Korat</td>\n",
       "      <td>-</td>\n",
       "      <td>https://www.purina.com/cats/cat-breeds/korat</td>\n",
       "      <td>https://www.purina.com/sites/g/files/auxxlc196...</td>\n",
       "    </tr>\n",
       "    <tr>\n",
       "      <th>21</th>\n",
       "      <td>LaPerm</td>\n",
       "      <td>-</td>\n",
       "      <td>https://www.purina.com/cats/cat-breeds/laperm</td>\n",
       "      <td>https://www.purina.com/sites/g/files/auxxlc196...</td>\n",
       "    </tr>\n",
       "    <tr>\n",
       "      <th>22</th>\n",
       "      <td>Maine Coon</td>\n",
       "      <td>Maine Coon cats are gentle natured and friendl...</td>\n",
       "      <td>https://www.purina.com/cats/cat-breeds/maine-coon</td>\n",
       "      <td>https://www.purina.com/sites/g/files/auxxlc196...</td>\n",
       "    </tr>\n",
       "    <tr>\n",
       "      <th>23</th>\n",
       "      <td>Manx</td>\n",
       "      <td>When she’s not hunting bugs or rodents or stan...</td>\n",
       "      <td>https://www.purina.com/cats/cat-breeds/manx</td>\n",
       "      <td>https://www.purina.com/sites/g/files/auxxlc196...</td>\n",
       "    </tr>\n",
       "    <tr>\n",
       "      <th>24</th>\n",
       "      <td>Munchkin</td>\n",
       "      <td>They may have short legs, but Munchkin Cats do...</td>\n",
       "      <td>https://www.purina.com/cats/cat-breeds/munchkin</td>\n",
       "      <td>https://www.purina.com/sites/g/files/auxxlc196...</td>\n",
       "    </tr>\n",
       "    <tr>\n",
       "      <th>25</th>\n",
       "      <td>Norwegian Forest</td>\n",
       "      <td>The Norwegian Forest Cat is a gentle giant. Th...</td>\n",
       "      <td>https://www.purina.com/cats/cat-breeds/norwegi...</td>\n",
       "      <td>https://www.purina.com/sites/g/files/auxxlc196...</td>\n",
       "    </tr>\n",
       "    <tr>\n",
       "      <th>26</th>\n",
       "      <td>Ocicat</td>\n",
       "      <td>-</td>\n",
       "      <td>https://www.purina.com/cats/cat-breeds/ocicat</td>\n",
       "      <td>https://www.purina.com/sites/g/files/auxxlc196...</td>\n",
       "    </tr>\n",
       "    <tr>\n",
       "      <th>27</th>\n",
       "      <td>Oriental</td>\n",
       "      <td>The Oriental is a sleek, elegant cat with larg...</td>\n",
       "      <td>https://www.purina.com/cats/cat-breeds/oriental</td>\n",
       "      <td>https://www.purina.com/sites/g/files/auxxlc196...</td>\n",
       "    </tr>\n",
       "    <tr>\n",
       "      <th>28</th>\n",
       "      <td>Persian</td>\n",
       "      <td>The docile Persian is a quiet feline who enjoy...</td>\n",
       "      <td>https://www.purina.com/cats/cat-breeds/persian</td>\n",
       "      <td>https://www.purina.com/sites/g/files/auxxlc196...</td>\n",
       "    </tr>\n",
       "    <tr>\n",
       "      <th>29</th>\n",
       "      <td>Peterbald</td>\n",
       "      <td>-</td>\n",
       "      <td>https://www.purina.com/cats/cat-breeds/peterbald</td>\n",
       "      <td>https://www.purina.com/sites/g/files/auxxlc196...</td>\n",
       "    </tr>\n",
       "    <tr>\n",
       "      <th>30</th>\n",
       "      <td>Pixiebob</td>\n",
       "      <td>-</td>\n",
       "      <td>https://www.purina.com/cats/cat-breeds/pixiebob</td>\n",
       "      <td>https://www.purina.com/sites/g/files/auxxlc196...</td>\n",
       "    </tr>\n",
       "    <tr>\n",
       "      <th>31</th>\n",
       "      <td>Ragamuffin</td>\n",
       "      <td>-</td>\n",
       "      <td>https://www.purina.com/cats/cat-breeds/ragamuffin</td>\n",
       "      <td>https://www.purina.com/sites/g/files/auxxlc196...</td>\n",
       "    </tr>\n",
       "    <tr>\n",
       "      <th>32</th>\n",
       "      <td>Ragdoll</td>\n",
       "      <td>Ragdolls are loving, smart and playful. They s...</td>\n",
       "      <td>https://www.purina.com/cats/cat-breeds/ragdoll</td>\n",
       "      <td>https://www.purina.com/sites/g/files/auxxlc196...</td>\n",
       "    </tr>\n",
       "    <tr>\n",
       "      <th>33</th>\n",
       "      <td>Russian Blue</td>\n",
       "      <td>The Russian Blue is gentle, quiet and even shy...</td>\n",
       "      <td>https://www.purina.com/cats/cat-breeds/russian...</td>\n",
       "      <td>https://www.purina.com/sites/g/files/auxxlc196...</td>\n",
       "    </tr>\n",
       "    <tr>\n",
       "      <th>34</th>\n",
       "      <td>Savannah</td>\n",
       "      <td>The Savannah Cat’s personality is playful, adv...</td>\n",
       "      <td>https://www.purina.com/cats/cat-breeds/savannah</td>\n",
       "      <td>https://www.purina.com/sites/g/files/auxxlc196...</td>\n",
       "    </tr>\n",
       "    <tr>\n",
       "      <th>35</th>\n",
       "      <td>Scottish Fold</td>\n",
       "      <td>The smart and friendly Scottish Fold loves pla...</td>\n",
       "      <td>https://www.purina.com/cats/cat-breeds/scottis...</td>\n",
       "      <td>https://www.purina.com/sites/g/files/auxxlc196...</td>\n",
       "    </tr>\n",
       "    <tr>\n",
       "      <th>36</th>\n",
       "      <td>Selkirk Rex</td>\n",
       "      <td>-</td>\n",
       "      <td>https://www.purina.com/cats/cat-breeds/selkirk...</td>\n",
       "      <td>https://www.purina.com/sites/g/files/auxxlc196...</td>\n",
       "    </tr>\n",
       "    <tr>\n",
       "      <th>37</th>\n",
       "      <td>Siamese</td>\n",
       "      <td>Siamese Cats are incredibly social, intelligen...</td>\n",
       "      <td>https://www.purina.com/cats/cat-breeds/siamese</td>\n",
       "      <td>https://www.purina.com/sites/g/files/auxxlc196...</td>\n",
       "    </tr>\n",
       "    <tr>\n",
       "      <th>38</th>\n",
       "      <td>Siberian</td>\n",
       "      <td>This friendly and affectionate feline will fol...</td>\n",
       "      <td>https://www.purina.com/cats/cat-breeds/siberian</td>\n",
       "      <td>https://www.purina.com/sites/g/files/auxxlc196...</td>\n",
       "    </tr>\n",
       "    <tr>\n",
       "      <th>39</th>\n",
       "      <td>Singapura</td>\n",
       "      <td>-</td>\n",
       "      <td>https://www.purina.com/cats/cat-breeds/singapura</td>\n",
       "      <td>https://www.purina.com/sites/g/files/auxxlc196...</td>\n",
       "    </tr>\n",
       "    <tr>\n",
       "      <th>40</th>\n",
       "      <td>Somali</td>\n",
       "      <td>-</td>\n",
       "      <td>https://www.purina.com/cats/cat-breeds/somali</td>\n",
       "      <td>https://www.purina.com/sites/g/files/auxxlc196...</td>\n",
       "    </tr>\n",
       "    <tr>\n",
       "      <th>41</th>\n",
       "      <td>Sphynx</td>\n",
       "      <td>The hairless Sphynx is muscular with broad ear...</td>\n",
       "      <td>https://www.purina.com/cats/cat-breeds/sphynx</td>\n",
       "      <td>https://www.purina.com/sites/g/files/auxxlc196...</td>\n",
       "    </tr>\n",
       "    <tr>\n",
       "      <th>42</th>\n",
       "      <td>Tonkinese</td>\n",
       "      <td>-</td>\n",
       "      <td>https://www.purina.com/cats/cat-breeds/tonkinese</td>\n",
       "      <td>https://www.purina.com/sites/g/files/auxxlc196...</td>\n",
       "    </tr>\n",
       "    <tr>\n",
       "      <th>43</th>\n",
       "      <td>Toyger</td>\n",
       "      <td>-</td>\n",
       "      <td>https://www.purina.com/breeds/toyger-cat-breed</td>\n",
       "      <td>https://www.purina.com/sites/g/files/auxxlc196...</td>\n",
       "    </tr>\n",
       "    <tr>\n",
       "      <th>44</th>\n",
       "      <td>Turkish Angora</td>\n",
       "      <td>The Turkish Angora may have been the first lon...</td>\n",
       "      <td>https://www.purina.com/cats/cat-breeds/turkish...</td>\n",
       "      <td>https://www.purina.com/sites/g/files/auxxlc196...</td>\n",
       "    </tr>\n",
       "    <tr>\n",
       "      <th>45</th>\n",
       "      <td>Turkish Van</td>\n",
       "      <td>-</td>\n",
       "      <td>https://www.purina.com/cats/cat-breeds/turkish...</td>\n",
       "      <td>https://www.purina.com/sites/g/files/auxxlc196...</td>\n",
       "    </tr>\n",
       "  </tbody>\n",
       "</table>\n",
       "</div>"
      ],
      "text/plain": [
       "                name_x                                        short_descr  \\\n",
       "0           Abyssinian  Abyssinians are highly intelligent and intense...   \n",
       "1     American Bobtail  The American Bobtail is an athletic breed that...   \n",
       "2        American Curl  With unique ears that curl back, and an inquis...   \n",
       "3   American Shorthair  Formerly used to keep rodents and vermin away ...   \n",
       "4    American Wirehair  Intelligent and highly adaptable, the American...   \n",
       "5    Balinese-Javanese  The Balinese, also known as Javanese depending...   \n",
       "6               Bengal  Bengal Cats are curious and confident with the...   \n",
       "7               Birman  The Birman is a cat of distinction as well as ...   \n",
       "8               Bombay  The Bombay is an easy-going, yet energetic cat...   \n",
       "9    British Shorthair  The British Shorthair is an easygoing feline. ...   \n",
       "10             Burmese  The Burmese thrives on companionship with her ...   \n",
       "11           Chartreux                                                  -   \n",
       "12         Cornish Rex                                                  -   \n",
       "13           Devon Rex  Because of her curly coat and her tail, which ...   \n",
       "14        Egyptian Mau  The Egyptian Mau is fiercely devoted to her hu...   \n",
       "15    European Burmese                                                  -   \n",
       "16    Exotic Shorthair  Known as the lazy man’s Persian, the Exotic Sh...   \n",
       "17        Havana Brown                                                  -   \n",
       "18           Himalayan  The Himalayan Cat is a sweet and mild-tempered...   \n",
       "19    Japanese Bobtail                                                  -   \n",
       "20               Korat                                                  -   \n",
       "21              LaPerm                                                  -   \n",
       "22          Maine Coon  Maine Coon cats are gentle natured and friendl...   \n",
       "23                Manx  When she’s not hunting bugs or rodents or stan...   \n",
       "24            Munchkin  They may have short legs, but Munchkin Cats do...   \n",
       "25    Norwegian Forest  The Norwegian Forest Cat is a gentle giant. Th...   \n",
       "26              Ocicat                                                  -   \n",
       "27            Oriental  The Oriental is a sleek, elegant cat with larg...   \n",
       "28             Persian  The docile Persian is a quiet feline who enjoy...   \n",
       "29           Peterbald                                                  -   \n",
       "30            Pixiebob                                                  -   \n",
       "31          Ragamuffin                                                  -   \n",
       "32             Ragdoll  Ragdolls are loving, smart and playful. They s...   \n",
       "33        Russian Blue  The Russian Blue is gentle, quiet and even shy...   \n",
       "34            Savannah  The Savannah Cat’s personality is playful, adv...   \n",
       "35       Scottish Fold  The smart and friendly Scottish Fold loves pla...   \n",
       "36         Selkirk Rex                                                  -   \n",
       "37             Siamese  Siamese Cats are incredibly social, intelligen...   \n",
       "38            Siberian  This friendly and affectionate feline will fol...   \n",
       "39           Singapura                                                  -   \n",
       "40              Somali                                                  -   \n",
       "41              Sphynx  The hairless Sphynx is muscular with broad ear...   \n",
       "42           Tonkinese                                                  -   \n",
       "43              Toyger                                                  -   \n",
       "44      Turkish Angora  The Turkish Angora may have been the first lon...   \n",
       "45         Turkish Van                                                  -   \n",
       "\n",
       "                                                 href  \\\n",
       "0        https://www.purina.com/breeds/abyssinian-cat   \n",
       "1   https://www.purina.com/cats/cat-breeds/america...   \n",
       "2   https://www.purina.com/cats/cat-breeds/america...   \n",
       "3   https://www.purina.com/cats/cat-breeds/america...   \n",
       "4   https://www.purina.com/cats/cat-breeds/america...   \n",
       "5   https://www.purina.com/cats/cat-breeds/balines...   \n",
       "6            https://www.purina.com/breeds/bengal-cat   \n",
       "7      https://www.purina.com/breeds/birman-cat-breed   \n",
       "8       https://www.purina.com/cats/cat-breeds/bombay   \n",
       "9   https://www.purina.com/cats/cat-breeds/british...   \n",
       "10     https://www.purina.com/cats/cat-breeds/burmese   \n",
       "11   https://www.purina.com/cats/cat-breeds/chartreux   \n",
       "12  https://www.purina.com/cats/cat-breeds/cornish...   \n",
       "13   https://www.purina.com/cats/cat-breeds/devon-rex   \n",
       "14  https://www.purina.com/cats/cat-breeds/egyptia...   \n",
       "15  https://www.purina.com/cats/cat-breeds/europea...   \n",
       "16  https://www.purina.com/cats/cat-breeds/exotic-...   \n",
       "17  https://www.purina.com/cats/cat-breeds/havana-...   \n",
       "18   https://www.purina.com/cats/cat-breeds/himalayan   \n",
       "19  https://www.purina.com/cats/cat-breeds/japanes...   \n",
       "20       https://www.purina.com/cats/cat-breeds/korat   \n",
       "21      https://www.purina.com/cats/cat-breeds/laperm   \n",
       "22  https://www.purina.com/cats/cat-breeds/maine-coon   \n",
       "23        https://www.purina.com/cats/cat-breeds/manx   \n",
       "24    https://www.purina.com/cats/cat-breeds/munchkin   \n",
       "25  https://www.purina.com/cats/cat-breeds/norwegi...   \n",
       "26      https://www.purina.com/cats/cat-breeds/ocicat   \n",
       "27    https://www.purina.com/cats/cat-breeds/oriental   \n",
       "28     https://www.purina.com/cats/cat-breeds/persian   \n",
       "29   https://www.purina.com/cats/cat-breeds/peterbald   \n",
       "30    https://www.purina.com/cats/cat-breeds/pixiebob   \n",
       "31  https://www.purina.com/cats/cat-breeds/ragamuffin   \n",
       "32     https://www.purina.com/cats/cat-breeds/ragdoll   \n",
       "33  https://www.purina.com/cats/cat-breeds/russian...   \n",
       "34    https://www.purina.com/cats/cat-breeds/savannah   \n",
       "35  https://www.purina.com/cats/cat-breeds/scottis...   \n",
       "36  https://www.purina.com/cats/cat-breeds/selkirk...   \n",
       "37     https://www.purina.com/cats/cat-breeds/siamese   \n",
       "38    https://www.purina.com/cats/cat-breeds/siberian   \n",
       "39   https://www.purina.com/cats/cat-breeds/singapura   \n",
       "40      https://www.purina.com/cats/cat-breeds/somali   \n",
       "41      https://www.purina.com/cats/cat-breeds/sphynx   \n",
       "42   https://www.purina.com/cats/cat-breeds/tonkinese   \n",
       "43     https://www.purina.com/breeds/toyger-cat-breed   \n",
       "44  https://www.purina.com/cats/cat-breeds/turkish...   \n",
       "45  https://www.purina.com/cats/cat-breeds/turkish...   \n",
       "\n",
       "                                              img_url  \n",
       "0   https://www.purina.com/sites/g/files/auxxlc196...  \n",
       "1   https://www.purina.com/sites/g/files/auxxlc196...  \n",
       "2   https://www.purina.com/sites/g/files/auxxlc196...  \n",
       "3   https://www.purina.com/sites/g/files/auxxlc196...  \n",
       "4   https://www.purina.com/sites/g/files/auxxlc196...  \n",
       "5   https://www.purina.com/sites/g/files/auxxlc196...  \n",
       "6   https://www.purina.com/sites/g/files/auxxlc196...  \n",
       "7   https://www.purina.com/sites/g/files/auxxlc196...  \n",
       "8   https://www.purina.com/sites/g/files/auxxlc196...  \n",
       "9   https://www.purina.com/sites/g/files/auxxlc196...  \n",
       "10  https://www.purina.com/sites/g/files/auxxlc196...  \n",
       "11  https://www.purina.com/sites/g/files/auxxlc196...  \n",
       "12  https://www.purina.com/sites/g/files/auxxlc196...  \n",
       "13  https://www.purina.com/sites/g/files/auxxlc196...  \n",
       "14  https://www.purina.com/sites/g/files/auxxlc196...  \n",
       "15  https://www.purina.com/sites/g/files/auxxlc196...  \n",
       "16  https://www.purina.com/sites/g/files/auxxlc196...  \n",
       "17  https://www.purina.com/sites/g/files/auxxlc196...  \n",
       "18  https://www.purina.com/sites/g/files/auxxlc196...  \n",
       "19  https://www.purina.com/sites/g/files/auxxlc196...  \n",
       "20  https://www.purina.com/sites/g/files/auxxlc196...  \n",
       "21  https://www.purina.com/sites/g/files/auxxlc196...  \n",
       "22  https://www.purina.com/sites/g/files/auxxlc196...  \n",
       "23  https://www.purina.com/sites/g/files/auxxlc196...  \n",
       "24  https://www.purina.com/sites/g/files/auxxlc196...  \n",
       "25  https://www.purina.com/sites/g/files/auxxlc196...  \n",
       "26  https://www.purina.com/sites/g/files/auxxlc196...  \n",
       "27  https://www.purina.com/sites/g/files/auxxlc196...  \n",
       "28  https://www.purina.com/sites/g/files/auxxlc196...  \n",
       "29  https://www.purina.com/sites/g/files/auxxlc196...  \n",
       "30  https://www.purina.com/sites/g/files/auxxlc196...  \n",
       "31  https://www.purina.com/sites/g/files/auxxlc196...  \n",
       "32  https://www.purina.com/sites/g/files/auxxlc196...  \n",
       "33  https://www.purina.com/sites/g/files/auxxlc196...  \n",
       "34  https://www.purina.com/sites/g/files/auxxlc196...  \n",
       "35  https://www.purina.com/sites/g/files/auxxlc196...  \n",
       "36  https://www.purina.com/sites/g/files/auxxlc196...  \n",
       "37  https://www.purina.com/sites/g/files/auxxlc196...  \n",
       "38  https://www.purina.com/sites/g/files/auxxlc196...  \n",
       "39  https://www.purina.com/sites/g/files/auxxlc196...  \n",
       "40  https://www.purina.com/sites/g/files/auxxlc196...  \n",
       "41  https://www.purina.com/sites/g/files/auxxlc196...  \n",
       "42  https://www.purina.com/sites/g/files/auxxlc196...  \n",
       "43  https://www.purina.com/sites/g/files/auxxlc196...  \n",
       "44  https://www.purina.com/sites/g/files/auxxlc196...  \n",
       "45  https://www.purina.com/sites/g/files/auxxlc196...  "
      ]
     },
     "execution_count": 37,
     "metadata": {},
     "output_type": "execute_result"
    }
   ],
   "source": [
    "df_merged"
   ]
  },
  {
   "cell_type": "code",
   "execution_count": null,
   "id": "32a438ef",
   "metadata": {},
   "outputs": [],
   "source": []
  },
  {
   "cell_type": "code",
   "execution_count": 38,
   "id": "8e003b86",
   "metadata": {},
   "outputs": [
    {
     "data": {
      "text/plain": [
       "'N nan cols: 0'"
      ]
     },
     "metadata": {},
     "output_type": "display_data"
    },
    {
     "data": {
      "text/plain": [
       "Series([], dtype: float64)"
      ]
     },
     "metadata": {},
     "output_type": "display_data"
    },
    {
     "data": {
      "image/png": "[encoded data removed]",
      "text/plain": [
       "<Figure size 1000x600 with 1 Axes>"
      ]
     },
     "metadata": {},
     "output_type": "display_data"
    }
   ],
   "source": [
    "check_nan(df_merged)"
   ]
  },
  {
   "cell_type": "code",
   "execution_count": 39,
   "id": "fe2c31a5",
   "metadata": {},
   "outputs": [
    {
     "data": {
      "text/plain": [
       "(46, 4)"
      ]
     },
     "execution_count": 39,
     "metadata": {},
     "output_type": "execute_result"
    }
   ],
   "source": [
    "df_merged.shape"
   ]
  },
  {
   "cell_type": "code",
   "execution_count": 40,
   "id": "ec475a9d",
   "metadata": {},
   "outputs": [
    {
     "data": {
      "text/html": [
       "<div>\n",
       "<style scoped>\n",
       "    .dataframe tbody tr th:only-of-type {\n",
       "        vertical-align: middle;\n",
       "    }\n",
       "\n",
       "    .dataframe tbody tr th {\n",
       "        vertical-align: top;\n",
       "    }\n",
       "\n",
       "    .dataframe thead th {\n",
       "        text-align: right;\n",
       "    }\n",
       "</style>\n",
       "<table border=\"1\" class=\"dataframe\">\n",
       "  <thead>\n",
       "    <tr style=\"text-align: right;\">\n",
       "      <th></th>\n",
       "      <th>name_x</th>\n",
       "      <th>short_descr</th>\n",
       "      <th>href</th>\n",
       "      <th>img_url</th>\n",
       "    </tr>\n",
       "  </thead>\n",
       "  <tbody>\n",
       "    <tr>\n",
       "      <th>41</th>\n",
       "      <td>Sphynx</td>\n",
       "      <td>The hairless Sphynx is muscular with broad ear...</td>\n",
       "      <td>https://www.purina.com/cats/cat-breeds/sphynx</td>\n",
       "      <td>https://www.purina.com/sites/g/files/auxxlc196...</td>\n",
       "    </tr>\n",
       "    <tr>\n",
       "      <th>42</th>\n",
       "      <td>Tonkinese</td>\n",
       "      <td>-</td>\n",
       "      <td>https://www.purina.com/cats/cat-breeds/tonkinese</td>\n",
       "      <td>https://www.purina.com/sites/g/files/auxxlc196...</td>\n",
       "    </tr>\n",
       "    <tr>\n",
       "      <th>43</th>\n",
       "      <td>Toyger</td>\n",
       "      <td>-</td>\n",
       "      <td>https://www.purina.com/breeds/toyger-cat-breed</td>\n",
       "      <td>https://www.purina.com/sites/g/files/auxxlc196...</td>\n",
       "    </tr>\n",
       "    <tr>\n",
       "      <th>44</th>\n",
       "      <td>Turkish Angora</td>\n",
       "      <td>The Turkish Angora may have been the first lon...</td>\n",
       "      <td>https://www.purina.com/cats/cat-breeds/turkish...</td>\n",
       "      <td>https://www.purina.com/sites/g/files/auxxlc196...</td>\n",
       "    </tr>\n",
       "    <tr>\n",
       "      <th>45</th>\n",
       "      <td>Turkish Van</td>\n",
       "      <td>-</td>\n",
       "      <td>https://www.purina.com/cats/cat-breeds/turkish...</td>\n",
       "      <td>https://www.purina.com/sites/g/files/auxxlc196...</td>\n",
       "    </tr>\n",
       "  </tbody>\n",
       "</table>\n",
       "</div>"
      ],
      "text/plain": [
       "            name_x                                        short_descr  \\\n",
       "41          Sphynx  The hairless Sphynx is muscular with broad ear...   \n",
       "42       Tonkinese                                                  -   \n",
       "43          Toyger                                                  -   \n",
       "44  Turkish Angora  The Turkish Angora may have been the first lon...   \n",
       "45     Turkish Van                                                  -   \n",
       "\n",
       "                                                 href  \\\n",
       "41      https://www.purina.com/cats/cat-breeds/sphynx   \n",
       "42   https://www.purina.com/cats/cat-breeds/tonkinese   \n",
       "43     https://www.purina.com/breeds/toyger-cat-breed   \n",
       "44  https://www.purina.com/cats/cat-breeds/turkish...   \n",
       "45  https://www.purina.com/cats/cat-breeds/turkish...   \n",
       "\n",
       "                                              img_url  \n",
       "41  https://www.purina.com/sites/g/files/auxxlc196...  \n",
       "42  https://www.purina.com/sites/g/files/auxxlc196...  \n",
       "43  https://www.purina.com/sites/g/files/auxxlc196...  \n",
       "44  https://www.purina.com/sites/g/files/auxxlc196...  \n",
       "45  https://www.purina.com/sites/g/files/auxxlc196...  "
      ]
     },
     "execution_count": 40,
     "metadata": {},
     "output_type": "execute_result"
    }
   ],
   "source": [
    "df_merged.tail()"
   ]
  },
  {
   "cell_type": "code",
   "execution_count": 41,
   "id": "66de6388",
   "metadata": {},
   "outputs": [],
   "source": [
    "df_merged = df_merged.reset_index(drop=True)\n"
   ]
  },
  {
   "cell_type": "code",
   "execution_count": 42,
   "id": "cee0148b",
   "metadata": {},
   "outputs": [],
   "source": [
    "cats = df_merged"
   ]
  },
  {
   "cell_type": "code",
   "execution_count": 43,
   "id": "4550cf07",
   "metadata": {},
   "outputs": [],
   "source": [
    "cats = cats.rename(columns={'name_x': 'breed'})"
   ]
  },
  {
   "cell_type": "code",
   "execution_count": 44,
   "id": "63d68afb",
   "metadata": {},
   "outputs": [],
   "source": [
    "cats = pd.DataFrame()"
   ]
  },
  {
   "cell_type": "code",
   "execution_count": 45,
   "id": "224eccef",
   "metadata": {},
   "outputs": [],
   "source": [
    "driver.get('https://www.purina.com/cats/cat-breeds/chartreux')"
   ]
  },
  {
   "cell_type": "code",
   "execution_count": 46,
   "id": "b8ea64d4",
   "metadata": {},
   "outputs": [
    {
     "data": {
      "text/plain": [
       "[['Often called the smiling cat of France, the Chartreux has a sweet, smiling expression. This sturdy, powerful cat has a distinctive blue coat with a resilient wooly undercoat. Historically known as fine mousers with strong hunting instincts, the Chartreux enjoys toys that move. This is a slow-maturing breed that reaches adulthood in three to five years. A loving, gentle companion, the Chartreux forms a close bond with her family.'],\n",
       " ['According to legend, Carthusian monks bred Chartreux at the Grande Chartreuse Monastery in southeast France. The breed was named after the monks’ world-famous yellow and green Chartreuse liquors, and the cats were selectively bred to have quiet voices so as not to disturb the monks’ mediations.'],\n",
       " ['']]"
      ]
     },
     "execution_count": 46,
     "metadata": {},
     "output_type": "execute_result"
    }
   ],
   "source": [
    "cats_web = driver.find_elements(By.CLASS_NAME,'quarantine')\n",
    "\n",
    "c = []\n",
    "\n",
    "for info in cats_web:\n",
    "    \n",
    "    c.append(info.text.strip().split('\\n'))\n",
    "    \n",
    "c"
   ]
  },
  {
   "cell_type": "code",
   "execution_count": 47,
   "id": "9abc313f",
   "metadata": {},
   "outputs": [
    {
     "data": {
      "text/plain": [
       "['According to legend, Carthusian monks bred Chartreux at the Grande Chartreuse Monastery in southeast France. The breed was named after the monks’ world-famous yellow and green Chartreuse liquors, and the cats were selectively bred to have quiet voices so as not to disturb the monks’ mediations.']"
      ]
     },
     "execution_count": 47,
     "metadata": {},
     "output_type": "execute_result"
    }
   ],
   "source": [
    "c[1]"
   ]
  },
  {
   "cell_type": "code",
   "execution_count": 48,
   "id": "0b7127d0",
   "metadata": {},
   "outputs": [],
   "source": [
    "driver.get('https://www.purina.com/cats/cat-breeds/cornish-rex')"
   ]
  },
  {
   "cell_type": "code",
   "execution_count": 49,
   "id": "8fa48c1c",
   "metadata": {},
   "outputs": [
    {
     "data": {
      "text/plain": [
       "[['Bat-eared, big-eyed and wavy-coated, the Cornish Rex has a distinctive look and exceptionally silky coat due to not having guard hairs like other breeds. This active cat has a small, whippetlike body and loves to climb, leap and sprint. With kittenlike antics that last a lifetime, this feline likes to be where the action is. The Cornish Rex is perfect for those who want a cat to participate in their family life.'],\n",
       " ['On July 21, 1950, in Cornwall, England, Nina Ennismore discovered that her domestic British Shorthair, a tortoiseshell-and-white cat named “Serena,” had given birth to a cream-colored male with tight rows of tiny curls that looked like a miniature lamb. Ennismore named the kitten “Kallibunker” and the breed Rex as it resembled the wavy fur of the Astrex rabbits she raised and exhibited.'],\n",
       " ['']]"
      ]
     },
     "execution_count": 49,
     "metadata": {},
     "output_type": "execute_result"
    }
   ],
   "source": [
    "cats_web = driver.find_elements(By.CLASS_NAME,'quarantine')\n",
    "\n",
    "c1 = []\n",
    "\n",
    "for info in cats_web:\n",
    "    \n",
    "    c1.append(info.text.strip().split('\\n'))\n",
    "    \n",
    "c1"
   ]
  },
  {
   "cell_type": "code",
   "execution_count": 50,
   "id": "f796e859",
   "metadata": {},
   "outputs": [],
   "source": [
    "driver.get('https://www.purina.com/cats/cat-breeds/european-burmese')"
   ]
  },
  {
   "cell_type": "code",
   "execution_count": 51,
   "id": "471de73f",
   "metadata": {},
   "outputs": [
    {
     "data": {
      "text/plain": [
       "[['The European Burmese is similar to the Burmese except for her body and eye shape, having a slim, elegant body that is roundly contoured and eyes that are slightly curved and slanted toward the nose. The European Burmese has a sweet, loving disposition and is extremely loyal to her family. An intelligent cat, this breed is an ideal pet that gets along well with cats and cat friendly dogs.'],\n",
       " ['According to legend, Burmese were temple cats and the pets of royalty long before the Siamese claimed the honor. Each Burmese cat was assigned a novice monk whose duties included indulging every whim of his feline charge.'],\n",
       " ['']]"
      ]
     },
     "execution_count": 51,
     "metadata": {},
     "output_type": "execute_result"
    }
   ],
   "source": [
    "cats_web = driver.find_elements(By.CLASS_NAME,'quarantine')\n",
    "\n",
    "c2 = []\n",
    "\n",
    "for info in cats_web:\n",
    "    \n",
    "    c2.append(info.text.strip().split('\\n'))\n",
    "    \n",
    "c2"
   ]
  },
  {
   "cell_type": "code",
   "execution_count": 52,
   "id": "1bf177c8",
   "metadata": {},
   "outputs": [],
   "source": [
    "driver.get('https://www.purina.com/cats/cat-breeds/japanese-bobtail')"
   ]
  },
  {
   "cell_type": "code",
   "execution_count": 53,
   "id": "8bba256b",
   "metadata": {},
   "outputs": [
    {
     "data": {
      "text/plain": [
       "[['One of the oldest cat breeds, the Japanese Bobtail is believed to bring good luck and prosperity. The two coat varieties, longhair and shorthair, are exactly the same except for coat length. This delightfully mischievous feline enjoys a good game of fetch and likes to carry things in her mouth. A healthy breed that lives an average of 15 to 18 years, the Japanese Bobtail is social and particularly good with children.'],\n",
       " ['In August 1968, Elizabeth Freret, a well-known Abyssinian breeder, imported three Japanese Bobtails to the U.S. These cats became the foundation stock in this country, though the Japanese Bobtail, the national cat breed of Japan, had existed for centuries in the Orient.'],\n",
       " ['']]"
      ]
     },
     "execution_count": 53,
     "metadata": {},
     "output_type": "execute_result"
    }
   ],
   "source": [
    "cats_web = driver.find_elements(By.CLASS_NAME,'quarantine')\n",
    "\n",
    "c3 = []\n",
    "\n",
    "for info in cats_web:\n",
    "    \n",
    "    c3.append(info.text.strip().split('\\n'))\n",
    "    \n",
    "c3"
   ]
  },
  {
   "cell_type": "code",
   "execution_count": 54,
   "id": "b0c53daa",
   "metadata": {},
   "outputs": [],
   "source": [
    "driver.get('https://www.purina.com/cats/cat-breeds/havana-brown')"
   ]
  },
  {
   "cell_type": "code",
   "execution_count": 55,
   "id": "96080476",
   "metadata": {},
   "outputs": [
    {
     "data": {
      "text/plain": [
       "[['The Havana Brown is called the puppy of the cat fancy because this breed loves to follow her owners everywhere. Outgoing, playful and charming, Brownies are intelligent and easily trained to fetch. Unlike cats that use their sense of smell to investigate curiosities, this feline extends her paws, often appearing to be holding out a paw of friendship. The Havana Brown is social and doesn’t like being left alone too long.'],\n",
       " ['The Havana Brown was named for the similarity of her lovely burnished, mahogany-toned, glossy coat to the brown color of Havana cigars.The Havana Brown is exclusive to North America. The Chestnut Brown, the European version of the Havana Brown, is the equivalent of the chestnut Oriental Shorthair.'],\n",
       " ['']]"
      ]
     },
     "execution_count": 55,
     "metadata": {},
     "output_type": "execute_result"
    }
   ],
   "source": [
    "cats_web = driver.find_elements(By.CLASS_NAME,'quarantine')\n",
    "\n",
    "c4 = []\n",
    "\n",
    "for info in cats_web:\n",
    "    \n",
    "    c4.append(info.text.strip().split('\\n'))\n",
    "    \n",
    "c4"
   ]
  },
  {
   "cell_type": "code",
   "execution_count": 56,
   "id": "b5b08d04",
   "metadata": {},
   "outputs": [],
   "source": [
    "driver.get('https://www.purina.com/cats/cat-breeds/korat')"
   ]
  },
  {
   "cell_type": "code",
   "execution_count": 57,
   "id": "754cd954",
   "metadata": {},
   "outputs": [
    {
     "data": {
      "text/plain": [
       "[['A rare Thai breed, the Korat is an affectionate constant companion that is gentle and good with children. Though this cat has an action-packed personality, the Korat moves slowly and cautiously and does not like sudden, loud noises. The breed is said to have extraordinary powers of hearing, scent and sight. The Korat’s silver-tipped blue coat, described in Thailand as rain-cloud gray, has a shimmering effect.'],\n",
       " ['Discovered in the Korat province of Thailand, the Korat has been cherished in her native Thailand for centuries as a symbol of good fortune. The expressive, oversized eyes of the Korat have an intense gaze that is said to take one’s breath away. The eyes are blue at birth but change to amber with green around the pupil during adolescence and then luminous green in two to four years.'],\n",
       " ['']]"
      ]
     },
     "execution_count": 57,
     "metadata": {},
     "output_type": "execute_result"
    }
   ],
   "source": [
    "cats_web = driver.find_elements(By.CLASS_NAME,'quarantine')\n",
    "\n",
    "c5 = []\n",
    "\n",
    "for info in cats_web:\n",
    "    \n",
    "    c5.append(info.text.strip().split('\\n'))\n",
    "    \n",
    "c5"
   ]
  },
  {
   "cell_type": "code",
   "execution_count": 58,
   "id": "2007da36",
   "metadata": {},
   "outputs": [],
   "source": [
    "driver.get('https://www.purina.com/cats/cat-breeds/laperm')"
   ]
  },
  {
   "cell_type": "code",
   "execution_count": 59,
   "id": "215ee682",
   "metadata": {},
   "outputs": [
    {
     "data": {
      "text/plain": [
       "[['Distinguished by her curly, rippled coat and people-oriented personality, the LaPerm is calm and friendly, yet at other times energetic and inquisitive. This feline thrives on attention and likes to be close to her human companions. Though curious, this breed is content to be a lap cat and close to whatever is going on. The LaPerm blossoms with a loving family.'],\n",
       " ['The LaPerm coat ranges from wavy to ringlets to long corkscrew curls. Those with longhair have curly plumed tails and a full, curly ruff, and those with shorthair have more texture, no ruff and a bottle-brush type tail. The tightest curls are found on the belly, throat and base of the ears.'],\n",
       " ['']]"
      ]
     },
     "execution_count": 59,
     "metadata": {},
     "output_type": "execute_result"
    }
   ],
   "source": [
    "cats_web = driver.find_elements(By.CLASS_NAME,'quarantine')\n",
    "\n",
    "c6 = []\n",
    "\n",
    "for info in cats_web:\n",
    "    \n",
    "    c6.append(info.text.strip().split('\\n'))\n",
    "    \n",
    "c6"
   ]
  },
  {
   "cell_type": "code",
   "execution_count": 60,
   "id": "e13a6b16",
   "metadata": {},
   "outputs": [],
   "source": [
    "driver.get('https://www.purina.com/cats/cat-breeds/ocicat')"
   ]
  },
  {
   "cell_type": "code",
   "execution_count": 61,
   "id": "f4aedc47",
   "metadata": {},
   "outputs": [
    {
     "data": {
      "text/plain": [
       "[['The Ocicat is the only spotted domestic breed selectively bred to emulate cats of the wild. This muscular, athletic breed can be trained to play fetch and walk on a leash. A people-devoted feline, the Ocicat loves companionship and doesn’t like being left alone too long. This cat does well with other cats and cat friendly dogs. A healthy breed, the Ocicat may live to be 15 to 18 years old.'],\n",
       " ['In 1964, Virginia Daly of Berkleg, Mich., experimentally crossed a Siamese with an Abyssinian hoping to produce an Aby-point Siamese. A male kitten in the litter was ivory with golden spots and copper eyes. Daly’s daughter named the breed Ocicat because the kitten, “Tonga,” resembled the spotted wildcat. Tonga was neutered and sold as a pet. A noted geneticist at Georgia University, Dr. Clyde Keeler, wanted to see a domestic cat that mimicked wild species that were becoming extinct. At his request, the breeding of Tonga’s parents was repeated, producing another spotted male, Dalai Dotson, who became the father of the Ocicat breed.'],\n",
       " ['']]"
      ]
     },
     "execution_count": 61,
     "metadata": {},
     "output_type": "execute_result"
    }
   ],
   "source": [
    "cats_web = driver.find_elements(By.CLASS_NAME,'quarantine')\n",
    "\n",
    "c7 = []\n",
    "\n",
    "for info in cats_web:\n",
    "    \n",
    "    c7.append(info.text.strip().split('\\n'))\n",
    "    \n",
    "c7"
   ]
  },
  {
   "cell_type": "code",
   "execution_count": 62,
   "id": "e33348dc",
   "metadata": {},
   "outputs": [],
   "source": [
    "driver.get('https://www.purina.com/cats/cat-breeds/peterbald')"
   ]
  },
  {
   "cell_type": "code",
   "execution_count": 63,
   "id": "97a3c62f",
   "metadata": {},
   "outputs": [
    {
     "data": {
      "text/plain": [
       "[['The elegant naked Peterbald is an athletic breed that looks like she is performing aerial ballet when she plays. This highly intelligent, social feline gets along well with adults, children, dogs, and other pets, but does not like to be left alone for long periods. The Peterbald’s curiosity and spirited nature are entertaining, and her affectionate disposition makes her a beloved companion.'],\n",
       " ['The Peterbald coat ranges from smooth bald to a short brushed coat. Kittens usually are born with hair, but lose the coat as they mature, which can take up to two years. Though hairless, Peterbalds should be wiped down regularly to remove the sebaceous oils that collect on their skin and could become sticky to the touch.'],\n",
       " ['']]"
      ]
     },
     "execution_count": 63,
     "metadata": {},
     "output_type": "execute_result"
    }
   ],
   "source": [
    "cats_web = driver.find_elements(By.CLASS_NAME,'quarantine')\n",
    "\n",
    "c8 = []\n",
    "\n",
    "for info in cats_web:\n",
    "    \n",
    "    c8.append(info.text.strip().split('\\n'))\n",
    "    \n",
    "c8"
   ]
  },
  {
   "cell_type": "code",
   "execution_count": 64,
   "id": "665c4978",
   "metadata": {},
   "outputs": [],
   "source": [
    "driver.get('https://www.purina.com/cats/cat-breeds/pixiebob')"
   ]
  },
  {
   "cell_type": "code",
   "execution_count": 65,
   "id": "61df1f37",
   "metadata": {},
   "outputs": [
    {
     "data": {
      "text/plain": [
       "[['A muscular, brawny cat that resembles the wild Coastal Red Bobcat found in the Pacific Northwest, the Pixiebob has the loving personality of a domestic cat. This active, intelligent feline is often called a dog in disguise because she can be taught to fetch and walk on a leash. The Pixiebob is an easygoing, relaxed cat that is a loving companion for children and enjoys other pets.'],\n",
       " ['The Pixiebob is the only breed that accepts polydactyls – up to seven extra toes is allowed -- and comes in two coat varieties, longhair and shorthair.'],\n",
       " ['']]"
      ]
     },
     "execution_count": 65,
     "metadata": {},
     "output_type": "execute_result"
    }
   ],
   "source": [
    "cats_web = driver.find_elements(By.CLASS_NAME,'quarantine')\n",
    "\n",
    "c9 = []\n",
    "\n",
    "for info in cats_web:\n",
    "    \n",
    "    c9.append(info.text.strip().split('\\n'))\n",
    "    \n",
    "c9"
   ]
  },
  {
   "cell_type": "code",
   "execution_count": 66,
   "id": "a4cb6106",
   "metadata": {},
   "outputs": [],
   "source": [
    "driver.get('https://www.purina.com/cats/cat-breeds/ragamuffin')"
   ]
  },
  {
   "cell_type": "code",
   "execution_count": 67,
   "id": "52c54cc5",
   "metadata": {},
   "outputs": [
    {
     "data": {
      "text/plain": [
       "[['A gorgeous, massive breed with large, expressive eyes, the RagaMuffin is sweet and loving, often described as being like a teddy bear. This feline thrives on attention and is a wonderful family pet that gets along well with other cats and cat friendly dogs. The RagaMuffin has an easygoing, calm temperament and can be trained to walk on a leash, play fetch and sit up to beg. This healthy breed reaches adulthood at 4 years old.'],\n",
       " ['The RagaMuffin is similar, but not identical, to the conformation and temperament of the Ragdoll due to years of separation between the breeds. The RagaMuffin has a wider variety of colors and the body type is slightly different, though both breeds are descendants from the original Ragdoll bloodlines. The RagaMuffin is sometimes called not a new breed but an old one with a new name.'],\n",
       " ['']]"
      ]
     },
     "execution_count": 67,
     "metadata": {},
     "output_type": "execute_result"
    }
   ],
   "source": [
    "cats_web = driver.find_elements(By.CLASS_NAME,'quarantine')\n",
    "\n",
    "c10 = []\n",
    "\n",
    "for info in cats_web:\n",
    "    \n",
    "    c10.append(info.text.strip().split('\\n'))\n",
    "    \n",
    "c10"
   ]
  },
  {
   "cell_type": "code",
   "execution_count": 68,
   "id": "347b7332",
   "metadata": {},
   "outputs": [],
   "source": [
    "driver.get('https://www.purina.com/cats/cat-breeds/selkirk-rex')"
   ]
  },
  {
   "cell_type": "code",
   "execution_count": 69,
   "id": "a1f72d7e",
   "metadata": {},
   "outputs": [
    {
     "data": {
      "text/plain": [
       "[['The naturally curly Selkirk Rex is one of the newest natural breeds. With a large, dense body, similar to a British Shorthair, this cat has two coat varieties: shorthair and longhair. A wonderful, people-oriented breed, the Selkirk Rex also gets along well with other cats and cat friendly dogs. Patient and tolerant, the Selkirk Rex adapts easily to most living situations. This healthy, sturdy breed is clever, intelligent and entertaining.'],\n",
       " ['Selkirk Rex litters can have both curly coated and straight-haired kittens. Those with curly coats are born with an extremely curly coat, but at about 16 weeks of age, the coat begins to straighten. At 8 to 10 months old, a kitten will begin to regain her curls, which increase in curliness until the cat reaches 2 years of age.'],\n",
       " ['']]"
      ]
     },
     "execution_count": 69,
     "metadata": {},
     "output_type": "execute_result"
    }
   ],
   "source": [
    "cats_web = driver.find_elements(By.CLASS_NAME,'quarantine')\n",
    "\n",
    "c11 = []\n",
    "\n",
    "for info in cats_web:\n",
    "    \n",
    "    c11.append(info.text.strip().split('\\n'))\n",
    "    \n",
    "c11"
   ]
  },
  {
   "cell_type": "code",
   "execution_count": 70,
   "id": "e7aef1f6",
   "metadata": {},
   "outputs": [],
   "source": [
    "driver.get('https://www.purina.com/cats/cat-breeds/singapura')"
   ]
  },
  {
   "cell_type": "code",
   "execution_count": 71,
   "id": "c83c5d54",
   "metadata": {},
   "outputs": [
    {
     "data": {
      "text/plain": [
       "[['The smallest domestic cat breed, the Singapura is an extroverted, playful feline sometimes called a “pesky people cat.” This breed thrives on attention and interactive play. Called Pura for short, these cats are intelligent and keenly observant. Friendly and social, they enjoy cats and cat friendly dogs, but dislike loud noises so are not ideal for busy households with boisterous children.'],\n",
       " ['The Singapura originated from small brown cats with ticked coats known as “drain cats” because they lived in Singapore’s storm drains. These cats fought for their share of fish on the Malaysian island’s shipping docks. Singapura is the Malaysian word for the Singapore, which means “lion city” and explains why the breed is known as “little lions of love.”'],\n",
       " ['']]"
      ]
     },
     "execution_count": 71,
     "metadata": {},
     "output_type": "execute_result"
    }
   ],
   "source": [
    "cats_web = driver.find_elements(By.CLASS_NAME,'quarantine')\n",
    "\n",
    "c12 = []\n",
    "\n",
    "for info in cats_web:\n",
    "    \n",
    "    c12.append(info.text.strip().split('\\n'))\n",
    "    \n",
    "c12"
   ]
  },
  {
   "cell_type": "code",
   "execution_count": 72,
   "id": "05f8c21b",
   "metadata": {},
   "outputs": [],
   "source": [
    "driver.get('https://www.purina.com/cats/cat-breeds/somali')"
   ]
  },
  {
   "cell_type": "code",
   "execution_count": 73,
   "id": "bb88fd1f",
   "metadata": {},
   "outputs": [
    {
     "data": {
      "text/plain": [
       "[['Strikingly beautiful, the Somali looks like a small wild fox with her full bushy tail and britches, large ears and dramatically ticked coat. This highly intelligent feline is known to open cupboards and fetch toys. The Somali loves attention and affection. The breed also is known for loving to play and having a zest for life. Highly adaptable, the Somali adjusts easily to new people and situations.'],\n",
       " ['Contrary to popular belief, the Somali did not originate in Somalia. Rather, the breed is essentially a longhaired Abyssinian that resulted from a recessive gene. Originally, Abyssinian breeders were not happy when these longhaired kittens showed up in litters. It is believed the Somali resulted when longhaired cats were used by British Abyssinian breeders following World War II to repopulate the breed or possibly were due to a mutation.'],\n",
       " ['']]"
      ]
     },
     "execution_count": 73,
     "metadata": {},
     "output_type": "execute_result"
    }
   ],
   "source": [
    "cats_web = driver.find_elements(By.CLASS_NAME,'quarantine')\n",
    "\n",
    "c13 = []\n",
    "\n",
    "for info in cats_web:\n",
    "    \n",
    "    c13.append(info.text.strip().split('\\n'))\n",
    "    \n",
    "c13"
   ]
  },
  {
   "cell_type": "code",
   "execution_count": 74,
   "id": "2a2c2d74",
   "metadata": {},
   "outputs": [],
   "source": [
    "driver.get('https://www.purina.com/cats/cat-breeds/tonkinese')"
   ]
  },
  {
   "cell_type": "code",
   "execution_count": 75,
   "id": "0c5641b7",
   "metadata": {},
   "outputs": [
    {
     "data": {
      "text/plain": [
       "[['The colorful personality of the Tonkinese is one of the breed’s greatest attributes. Muscular and active, with a sense of humor, this feline enjoys playing, climbing and whizzing by at warp speed. With her warm, loving personality, the Tonk craves human attention and shouldn’t be left alone for long periods. This is a lap cat that prefers playmates, including children, other cats and cat friendly dogs.'],\n",
       " ['The Tonkinese, like her ancestral breeds, the Burmese and Siamese, becomes darker as she ages. A pointed Tonkinese is born white, with the point colors beginning to develop when kittens are a few days old. They do not develop their full, rich colors for several years'],\n",
       " ['']]"
      ]
     },
     "execution_count": 75,
     "metadata": {},
     "output_type": "execute_result"
    }
   ],
   "source": [
    "cats_web = driver.find_elements(By.CLASS_NAME,'quarantine')\n",
    "\n",
    "c14 = []\n",
    "\n",
    "for info in cats_web:\n",
    "    \n",
    "    c14.append(info.text.strip().split('\\n'))\n",
    "    \n",
    "c14"
   ]
  },
  {
   "cell_type": "code",
   "execution_count": 76,
   "id": "6d4d97e1",
   "metadata": {},
   "outputs": [],
   "source": [
    "driver.get('https://www.purina.com/breeds/toyger-cat-breed')"
   ]
  },
  {
   "cell_type": "code",
   "execution_count": 77,
   "id": "7f1271bf",
   "metadata": {},
   "outputs": [
    {
     "data": {
      "text/plain": [
       "[['With her beautiful bold stripes and powerful body, the Toyger looks like a jungle tiger. This breed has a friendly, outgoing temperament and delights in being with people, even strangers, and gets along well with other pets. Highly intelligent, the Toyger is easy to train to go on leash walks and to play fetch. The Toyger is generally robust and healthy.'],\n",
       " ['Bred to resemble wild tigers in a domestic package, the Toyger has a unique coat pattern for a domestic cat. Instead of the vertical stripes of the mackerel tabby or the rounded rosettes of some spotted tabbies, the Toyger has broken, or branched, bold vertical stripes in a random pattern.'],\n",
       " ['']]"
      ]
     },
     "execution_count": 77,
     "metadata": {},
     "output_type": "execute_result"
    }
   ],
   "source": [
    "cats_web = driver.find_elements(By.CLASS_NAME,'quarantine')\n",
    "\n",
    "c15 = []\n",
    "\n",
    "for info in cats_web:\n",
    "    \n",
    "    c15.append(info.text.strip().split('\\n'))\n",
    "    \n",
    "c15"
   ]
  },
  {
   "cell_type": "code",
   "execution_count": 78,
   "id": "91806b33",
   "metadata": {},
   "outputs": [],
   "source": [
    "driver.get('https://www.purina.com/cats/cat-breeds/turkish-van')"
   ]
  },
  {
   "cell_type": "code",
   "execution_count": 79,
   "id": "32ee236a",
   "metadata": {},
   "outputs": [
    {
     "data": {
      "text/plain": [
       "[['The beautiful Turkish Van is distinguished by her chalk-white body and colored markings on the head and long, plumed tail. This curious feline has powerful hind legs that allow her to jump on otherwise hard-to-reach spaces. The sweet, loving breed likes to be involved in whatever is going on and enjoys curling up on a lap. A slow-maturing breed, the Turkish Van takes three to five years to reach maturity.'],\n",
       " ['The Turkish Van is a rare, ancient breed that developed in central and Southeast Asia, in areas known today as Iran, Iraq, southwest Soviet Union and eastern Turkey.'],\n",
       " ['']]"
      ]
     },
     "execution_count": 79,
     "metadata": {},
     "output_type": "execute_result"
    }
   ],
   "source": [
    "cats_web = driver.find_elements(By.CLASS_NAME,'quarantine')\n",
    "\n",
    "c16 = []\n",
    "\n",
    "for info in cats_web:\n",
    "    \n",
    "    c16.append(info.text.strip().split('\\n'))\n",
    "    \n",
    "c16"
   ]
  },
  {
   "cell_type": "code",
   "execution_count": 80,
   "id": "4c26f5d5",
   "metadata": {},
   "outputs": [],
   "source": [
    "df_merged.iloc[11].short_descr = c[1]"
   ]
  },
  {
   "cell_type": "code",
   "execution_count": 81,
   "id": "95e8b3a9",
   "metadata": {},
   "outputs": [],
   "source": [
    "df_merged.iloc[12].short_descr = c1[1]"
   ]
  },
  {
   "cell_type": "code",
   "execution_count": 82,
   "id": "30f48c55",
   "metadata": {},
   "outputs": [],
   "source": [
    "df_merged.iloc[15].short_descr = c2[1]"
   ]
  },
  {
   "cell_type": "code",
   "execution_count": 83,
   "id": "1e34fef9",
   "metadata": {},
   "outputs": [],
   "source": [
    "df_merged.iloc[17].short_descr = c3[1]"
   ]
  },
  {
   "cell_type": "code",
   "execution_count": 84,
   "id": "f57115f3",
   "metadata": {},
   "outputs": [],
   "source": [
    "df_merged.iloc[19].short_descr = c4[1]"
   ]
  },
  {
   "cell_type": "code",
   "execution_count": 85,
   "id": "c5f834fe",
   "metadata": {},
   "outputs": [],
   "source": [
    "df_merged.iloc[20].short_descr = c5[1]"
   ]
  },
  {
   "cell_type": "code",
   "execution_count": 86,
   "id": "fb31ae7b",
   "metadata": {},
   "outputs": [],
   "source": [
    "df_merged.iloc[21].short_descr = c6[1]"
   ]
  },
  {
   "cell_type": "code",
   "execution_count": 87,
   "id": "af2dc646",
   "metadata": {},
   "outputs": [],
   "source": [
    "df_merged.iloc[26].short_descr = c7[1]"
   ]
  },
  {
   "cell_type": "code",
   "execution_count": 88,
   "id": "48aecd58",
   "metadata": {},
   "outputs": [],
   "source": [
    "df_merged.iloc[29].short_descr = c8[1]"
   ]
  },
  {
   "cell_type": "code",
   "execution_count": 89,
   "id": "1b6c9f6c",
   "metadata": {},
   "outputs": [],
   "source": [
    "df_merged.iloc[30].short_descr = c9[1]"
   ]
  },
  {
   "cell_type": "code",
   "execution_count": 90,
   "id": "815d229c",
   "metadata": {},
   "outputs": [],
   "source": [
    "df_merged.iloc[31].short_descr = c10[1]"
   ]
  },
  {
   "cell_type": "code",
   "execution_count": 91,
   "id": "55d5438a",
   "metadata": {},
   "outputs": [],
   "source": [
    "df_merged.iloc[36].short_descr = c11[1]"
   ]
  },
  {
   "cell_type": "code",
   "execution_count": 92,
   "id": "2de84f8f",
   "metadata": {},
   "outputs": [],
   "source": [
    "df_merged.iloc[39].short_descr = c12[1]"
   ]
  },
  {
   "cell_type": "code",
   "execution_count": 93,
   "id": "a7663e63",
   "metadata": {},
   "outputs": [],
   "source": [
    "df_merged.iloc[40].short_descr = c13[1]"
   ]
  },
  {
   "cell_type": "code",
   "execution_count": 94,
   "id": "359ec67c",
   "metadata": {},
   "outputs": [],
   "source": [
    "df_merged.iloc[42].short_descr = c14[1]"
   ]
  },
  {
   "cell_type": "code",
   "execution_count": 95,
   "id": "62f6c6eb",
   "metadata": {},
   "outputs": [],
   "source": [
    "df_merged.iloc[43].short_descr = c15[1]"
   ]
  },
  {
   "cell_type": "code",
   "execution_count": 96,
   "id": "d9ecb367",
   "metadata": {},
   "outputs": [],
   "source": [
    "df_merged.iloc[45].short_descr = c16[1]"
   ]
  },
  {
   "cell_type": "code",
   "execution_count": 97,
   "id": "2ba7f435",
   "metadata": {},
   "outputs": [],
   "source": [
    "df_merged.rename(columns={ 'name_x' : 'breed'}, inplace=True)"
   ]
  },
  {
   "cell_type": "code",
   "execution_count": 98,
   "id": "2134fbe2",
   "metadata": {},
   "outputs": [],
   "source": [
    "df_merged = df_merged.applymap(lambda x: ', '.join(x) if isinstance(x, list) else x)\n"
   ]
  },
  {
   "cell_type": "code",
   "execution_count": 99,
   "id": "b584e39e",
   "metadata": {},
   "outputs": [
    {
     "data": {
      "text/html": [
       "<div>\n",
       "<style scoped>\n",
       "    .dataframe tbody tr th:only-of-type {\n",
       "        vertical-align: middle;\n",
       "    }\n",
       "\n",
       "    .dataframe tbody tr th {\n",
       "        vertical-align: top;\n",
       "    }\n",
       "\n",
       "    .dataframe thead th {\n",
       "        text-align: right;\n",
       "    }\n",
       "</style>\n",
       "<table border=\"1\" class=\"dataframe\">\n",
       "  <thead>\n",
       "    <tr style=\"text-align: right;\">\n",
       "      <th></th>\n",
       "      <th>breed</th>\n",
       "      <th>short_descr</th>\n",
       "      <th>href</th>\n",
       "      <th>img_url</th>\n",
       "    </tr>\n",
       "  </thead>\n",
       "  <tbody>\n",
       "    <tr>\n",
       "      <th>0</th>\n",
       "      <td>Abyssinian</td>\n",
       "      <td>Abyssinians are highly intelligent and intense...</td>\n",
       "      <td>https://www.purina.com/breeds/abyssinian-cat</td>\n",
       "      <td>https://www.purina.com/sites/g/files/auxxlc196...</td>\n",
       "    </tr>\n",
       "    <tr>\n",
       "      <th>1</th>\n",
       "      <td>American Bobtail</td>\n",
       "      <td>The American Bobtail is an athletic breed that...</td>\n",
       "      <td>https://www.purina.com/cats/cat-breeds/america...</td>\n",
       "      <td>https://www.purina.com/sites/g/files/auxxlc196...</td>\n",
       "    </tr>\n",
       "    <tr>\n",
       "      <th>2</th>\n",
       "      <td>American Curl</td>\n",
       "      <td>With unique ears that curl back, and an inquis...</td>\n",
       "      <td>https://www.purina.com/cats/cat-breeds/america...</td>\n",
       "      <td>https://www.purina.com/sites/g/files/auxxlc196...</td>\n",
       "    </tr>\n",
       "    <tr>\n",
       "      <th>3</th>\n",
       "      <td>American Shorthair</td>\n",
       "      <td>Formerly used to keep rodents and vermin away ...</td>\n",
       "      <td>https://www.purina.com/cats/cat-breeds/america...</td>\n",
       "      <td>https://www.purina.com/sites/g/files/auxxlc196...</td>\n",
       "    </tr>\n",
       "    <tr>\n",
       "      <th>4</th>\n",
       "      <td>American Wirehair</td>\n",
       "      <td>Intelligent and highly adaptable, the American...</td>\n",
       "      <td>https://www.purina.com/cats/cat-breeds/america...</td>\n",
       "      <td>https://www.purina.com/sites/g/files/auxxlc196...</td>\n",
       "    </tr>\n",
       "    <tr>\n",
       "      <th>5</th>\n",
       "      <td>Balinese-Javanese</td>\n",
       "      <td>The Balinese, also known as Javanese depending...</td>\n",
       "      <td>https://www.purina.com/cats/cat-breeds/balines...</td>\n",
       "      <td>https://www.purina.com/sites/g/files/auxxlc196...</td>\n",
       "    </tr>\n",
       "    <tr>\n",
       "      <th>6</th>\n",
       "      <td>Bengal</td>\n",
       "      <td>Bengal Cats are curious and confident with the...</td>\n",
       "      <td>https://www.purina.com/breeds/bengal-cat</td>\n",
       "      <td>https://www.purina.com/sites/g/files/auxxlc196...</td>\n",
       "    </tr>\n",
       "    <tr>\n",
       "      <th>7</th>\n",
       "      <td>Birman</td>\n",
       "      <td>The Birman is a cat of distinction as well as ...</td>\n",
       "      <td>https://www.purina.com/breeds/birman-cat-breed</td>\n",
       "      <td>https://www.purina.com/sites/g/files/auxxlc196...</td>\n",
       "    </tr>\n",
       "    <tr>\n",
       "      <th>8</th>\n",
       "      <td>Bombay</td>\n",
       "      <td>The Bombay is an easy-going, yet energetic cat...</td>\n",
       "      <td>https://www.purina.com/cats/cat-breeds/bombay</td>\n",
       "      <td>https://www.purina.com/sites/g/files/auxxlc196...</td>\n",
       "    </tr>\n",
       "    <tr>\n",
       "      <th>9</th>\n",
       "      <td>British Shorthair</td>\n",
       "      <td>The British Shorthair is an easygoing feline. ...</td>\n",
       "      <td>https://www.purina.com/cats/cat-breeds/british...</td>\n",
       "      <td>https://www.purina.com/sites/g/files/auxxlc196...</td>\n",
       "    </tr>\n",
       "    <tr>\n",
       "      <th>10</th>\n",
       "      <td>Burmese</td>\n",
       "      <td>The Burmese thrives on companionship with her ...</td>\n",
       "      <td>https://www.purina.com/cats/cat-breeds/burmese</td>\n",
       "      <td>https://www.purina.com/sites/g/files/auxxlc196...</td>\n",
       "    </tr>\n",
       "    <tr>\n",
       "      <th>11</th>\n",
       "      <td>Chartreux</td>\n",
       "      <td>According to legend, Carthusian monks bred Cha...</td>\n",
       "      <td>https://www.purina.com/cats/cat-breeds/chartreux</td>\n",
       "      <td>https://www.purina.com/sites/g/files/auxxlc196...</td>\n",
       "    </tr>\n",
       "    <tr>\n",
       "      <th>12</th>\n",
       "      <td>Cornish Rex</td>\n",
       "      <td>On July 21, 1950, in Cornwall, England, Nina E...</td>\n",
       "      <td>https://www.purina.com/cats/cat-breeds/cornish...</td>\n",
       "      <td>https://www.purina.com/sites/g/files/auxxlc196...</td>\n",
       "    </tr>\n",
       "    <tr>\n",
       "      <th>13</th>\n",
       "      <td>Devon Rex</td>\n",
       "      <td>Because of her curly coat and her tail, which ...</td>\n",
       "      <td>https://www.purina.com/cats/cat-breeds/devon-rex</td>\n",
       "      <td>https://www.purina.com/sites/g/files/auxxlc196...</td>\n",
       "    </tr>\n",
       "    <tr>\n",
       "      <th>14</th>\n",
       "      <td>Egyptian Mau</td>\n",
       "      <td>The Egyptian Mau is fiercely devoted to her hu...</td>\n",
       "      <td>https://www.purina.com/cats/cat-breeds/egyptia...</td>\n",
       "      <td>https://www.purina.com/sites/g/files/auxxlc196...</td>\n",
       "    </tr>\n",
       "    <tr>\n",
       "      <th>15</th>\n",
       "      <td>European Burmese</td>\n",
       "      <td>According to legend, Burmese were temple cats ...</td>\n",
       "      <td>https://www.purina.com/cats/cat-breeds/europea...</td>\n",
       "      <td>https://www.purina.com/sites/g/files/auxxlc196...</td>\n",
       "    </tr>\n",
       "    <tr>\n",
       "      <th>16</th>\n",
       "      <td>Exotic Shorthair</td>\n",
       "      <td>Known as the lazy man’s Persian, the Exotic Sh...</td>\n",
       "      <td>https://www.purina.com/cats/cat-breeds/exotic-...</td>\n",
       "      <td>https://www.purina.com/sites/g/files/auxxlc196...</td>\n",
       "    </tr>\n",
       "    <tr>\n",
       "      <th>17</th>\n",
       "      <td>Havana Brown</td>\n",
       "      <td>In August 1968, Elizabeth Freret, a well-known...</td>\n",
       "      <td>https://www.purina.com/cats/cat-breeds/havana-...</td>\n",
       "      <td>https://www.purina.com/sites/g/files/auxxlc196...</td>\n",
       "    </tr>\n",
       "    <tr>\n",
       "      <th>18</th>\n",
       "      <td>Himalayan</td>\n",
       "      <td>The Himalayan Cat is a sweet and mild-tempered...</td>\n",
       "      <td>https://www.purina.com/cats/cat-breeds/himalayan</td>\n",
       "      <td>https://www.purina.com/sites/g/files/auxxlc196...</td>\n",
       "    </tr>\n",
       "    <tr>\n",
       "      <th>19</th>\n",
       "      <td>Japanese Bobtail</td>\n",
       "      <td>The Havana Brown was named for the similarity ...</td>\n",
       "      <td>https://www.purina.com/cats/cat-breeds/japanes...</td>\n",
       "      <td>https://www.purina.com/sites/g/files/auxxlc196...</td>\n",
       "    </tr>\n",
       "    <tr>\n",
       "      <th>20</th>\n",
       "      <td>Korat</td>\n",
       "      <td>Discovered in the Korat province of Thailand, ...</td>\n",
       "      <td>https://www.purina.com/cats/cat-breeds/korat</td>\n",
       "      <td>https://www.purina.com/sites/g/files/auxxlc196...</td>\n",
       "    </tr>\n",
       "    <tr>\n",
       "      <th>21</th>\n",
       "      <td>LaPerm</td>\n",
       "      <td>The LaPerm coat ranges from wavy to ringlets t...</td>\n",
       "      <td>https://www.purina.com/cats/cat-breeds/laperm</td>\n",
       "      <td>https://www.purina.com/sites/g/files/auxxlc196...</td>\n",
       "    </tr>\n",
       "    <tr>\n",
       "      <th>22</th>\n",
       "      <td>Maine Coon</td>\n",
       "      <td>Maine Coon cats are gentle natured and friendl...</td>\n",
       "      <td>https://www.purina.com/cats/cat-breeds/maine-coon</td>\n",
       "      <td>https://www.purina.com/sites/g/files/auxxlc196...</td>\n",
       "    </tr>\n",
       "    <tr>\n",
       "      <th>23</th>\n",
       "      <td>Manx</td>\n",
       "      <td>When she’s not hunting bugs or rodents or stan...</td>\n",
       "      <td>https://www.purina.com/cats/cat-breeds/manx</td>\n",
       "      <td>https://www.purina.com/sites/g/files/auxxlc196...</td>\n",
       "    </tr>\n",
       "    <tr>\n",
       "      <th>24</th>\n",
       "      <td>Munchkin</td>\n",
       "      <td>They may have short legs, but Munchkin Cats do...</td>\n",
       "      <td>https://www.purina.com/cats/cat-breeds/munchkin</td>\n",
       "      <td>https://www.purina.com/sites/g/files/auxxlc196...</td>\n",
       "    </tr>\n",
       "    <tr>\n",
       "      <th>25</th>\n",
       "      <td>Norwegian Forest</td>\n",
       "      <td>The Norwegian Forest Cat is a gentle giant. Th...</td>\n",
       "      <td>https://www.purina.com/cats/cat-breeds/norwegi...</td>\n",
       "      <td>https://www.purina.com/sites/g/files/auxxlc196...</td>\n",
       "    </tr>\n",
       "    <tr>\n",
       "      <th>26</th>\n",
       "      <td>Ocicat</td>\n",
       "      <td>In 1964, Virginia Daly of Berkleg, Mich., expe...</td>\n",
       "      <td>https://www.purina.com/cats/cat-breeds/ocicat</td>\n",
       "      <td>https://www.purina.com/sites/g/files/auxxlc196...</td>\n",
       "    </tr>\n",
       "    <tr>\n",
       "      <th>27</th>\n",
       "      <td>Oriental</td>\n",
       "      <td>The Oriental is a sleek, elegant cat with larg...</td>\n",
       "      <td>https://www.purina.com/cats/cat-breeds/oriental</td>\n",
       "      <td>https://www.purina.com/sites/g/files/auxxlc196...</td>\n",
       "    </tr>\n",
       "    <tr>\n",
       "      <th>28</th>\n",
       "      <td>Persian</td>\n",
       "      <td>The docile Persian is a quiet feline who enjoy...</td>\n",
       "      <td>https://www.purina.com/cats/cat-breeds/persian</td>\n",
       "      <td>https://www.purina.com/sites/g/files/auxxlc196...</td>\n",
       "    </tr>\n",
       "    <tr>\n",
       "      <th>29</th>\n",
       "      <td>Peterbald</td>\n",
       "      <td>The Peterbald coat ranges from smooth bald to ...</td>\n",
       "      <td>https://www.purina.com/cats/cat-breeds/peterbald</td>\n",
       "      <td>https://www.purina.com/sites/g/files/auxxlc196...</td>\n",
       "    </tr>\n",
       "    <tr>\n",
       "      <th>30</th>\n",
       "      <td>Pixiebob</td>\n",
       "      <td>The Pixiebob is the only breed that accepts po...</td>\n",
       "      <td>https://www.purina.com/cats/cat-breeds/pixiebob</td>\n",
       "      <td>https://www.purina.com/sites/g/files/auxxlc196...</td>\n",
       "    </tr>\n",
       "    <tr>\n",
       "      <th>31</th>\n",
       "      <td>Ragamuffin</td>\n",
       "      <td>The RagaMuffin is similar, but not identical, ...</td>\n",
       "      <td>https://www.purina.com/cats/cat-breeds/ragamuffin</td>\n",
       "      <td>https://www.purina.com/sites/g/files/auxxlc196...</td>\n",
       "    </tr>\n",
       "    <tr>\n",
       "      <th>32</th>\n",
       "      <td>Ragdoll</td>\n",
       "      <td>Ragdolls are loving, smart and playful. They s...</td>\n",
       "      <td>https://www.purina.com/cats/cat-breeds/ragdoll</td>\n",
       "      <td>https://www.purina.com/sites/g/files/auxxlc196...</td>\n",
       "    </tr>\n",
       "    <tr>\n",
       "      <th>33</th>\n",
       "      <td>Russian Blue</td>\n",
       "      <td>The Russian Blue is gentle, quiet and even shy...</td>\n",
       "      <td>https://www.purina.com/cats/cat-breeds/russian...</td>\n",
       "      <td>https://www.purina.com/sites/g/files/auxxlc196...</td>\n",
       "    </tr>\n",
       "    <tr>\n",
       "      <th>34</th>\n",
       "      <td>Savannah</td>\n",
       "      <td>The Savannah Cat’s personality is playful, adv...</td>\n",
       "      <td>https://www.purina.com/cats/cat-breeds/savannah</td>\n",
       "      <td>https://www.purina.com/sites/g/files/auxxlc196...</td>\n",
       "    </tr>\n",
       "    <tr>\n",
       "      <th>35</th>\n",
       "      <td>Scottish Fold</td>\n",
       "      <td>The smart and friendly Scottish Fold loves pla...</td>\n",
       "      <td>https://www.purina.com/cats/cat-breeds/scottis...</td>\n",
       "      <td>https://www.purina.com/sites/g/files/auxxlc196...</td>\n",
       "    </tr>\n",
       "    <tr>\n",
       "      <th>36</th>\n",
       "      <td>Selkirk Rex</td>\n",
       "      <td>Selkirk Rex litters can have both curly coated...</td>\n",
       "      <td>https://www.purina.com/cats/cat-breeds/selkirk...</td>\n",
       "      <td>https://www.purina.com/sites/g/files/auxxlc196...</td>\n",
       "    </tr>\n",
       "    <tr>\n",
       "      <th>37</th>\n",
       "      <td>Siamese</td>\n",
       "      <td>Siamese Cats are incredibly social, intelligen...</td>\n",
       "      <td>https://www.purina.com/cats/cat-breeds/siamese</td>\n",
       "      <td>https://www.purina.com/sites/g/files/auxxlc196...</td>\n",
       "    </tr>\n",
       "    <tr>\n",
       "      <th>38</th>\n",
       "      <td>Siberian</td>\n",
       "      <td>This friendly and affectionate feline will fol...</td>\n",
       "      <td>https://www.purina.com/cats/cat-breeds/siberian</td>\n",
       "      <td>https://www.purina.com/sites/g/files/auxxlc196...</td>\n",
       "    </tr>\n",
       "    <tr>\n",
       "      <th>39</th>\n",
       "      <td>Singapura</td>\n",
       "      <td>The Singapura originated from small brown cats...</td>\n",
       "      <td>https://www.purina.com/cats/cat-breeds/singapura</td>\n",
       "      <td>https://www.purina.com/sites/g/files/auxxlc196...</td>\n",
       "    </tr>\n",
       "    <tr>\n",
       "      <th>40</th>\n",
       "      <td>Somali</td>\n",
       "      <td>Contrary to popular belief, the Somali did not...</td>\n",
       "      <td>https://www.purina.com/cats/cat-breeds/somali</td>\n",
       "      <td>https://www.purina.com/sites/g/files/auxxlc196...</td>\n",
       "    </tr>\n",
       "    <tr>\n",
       "      <th>41</th>\n",
       "      <td>Sphynx</td>\n",
       "      <td>The hairless Sphynx is muscular with broad ear...</td>\n",
       "      <td>https://www.purina.com/cats/cat-breeds/sphynx</td>\n",
       "      <td>https://www.purina.com/sites/g/files/auxxlc196...</td>\n",
       "    </tr>\n",
       "    <tr>\n",
       "      <th>42</th>\n",
       "      <td>Tonkinese</td>\n",
       "      <td>The Tonkinese, like her ancestral breeds, the ...</td>\n",
       "      <td>https://www.purina.com/cats/cat-breeds/tonkinese</td>\n",
       "      <td>https://www.purina.com/sites/g/files/auxxlc196...</td>\n",
       "    </tr>\n",
       "    <tr>\n",
       "      <th>43</th>\n",
       "      <td>Toyger</td>\n",
       "      <td>Bred to resemble wild tigers in a domestic pac...</td>\n",
       "      <td>https://www.purina.com/breeds/toyger-cat-breed</td>\n",
       "      <td>https://www.purina.com/sites/g/files/auxxlc196...</td>\n",
       "    </tr>\n",
       "    <tr>\n",
       "      <th>44</th>\n",
       "      <td>Turkish Angora</td>\n",
       "      <td>The Turkish Angora may have been the first lon...</td>\n",
       "      <td>https://www.purina.com/cats/cat-breeds/turkish...</td>\n",
       "      <td>https://www.purina.com/sites/g/files/auxxlc196...</td>\n",
       "    </tr>\n",
       "    <tr>\n",
       "      <th>45</th>\n",
       "      <td>Turkish Van</td>\n",
       "      <td>The Turkish Van is a rare, ancient breed that ...</td>\n",
       "      <td>https://www.purina.com/cats/cat-breeds/turkish...</td>\n",
       "      <td>https://www.purina.com/sites/g/files/auxxlc196...</td>\n",
       "    </tr>\n",
       "  </tbody>\n",
       "</table>\n",
       "</div>"
      ],
      "text/plain": [
       "                 breed                                        short_descr  \\\n",
       "0           Abyssinian  Abyssinians are highly intelligent and intense...   \n",
       "1     American Bobtail  The American Bobtail is an athletic breed that...   \n",
       "2        American Curl  With unique ears that curl back, and an inquis...   \n",
       "3   American Shorthair  Formerly used to keep rodents and vermin away ...   \n",
       "4    American Wirehair  Intelligent and highly adaptable, the American...   \n",
       "5    Balinese-Javanese  The Balinese, also known as Javanese depending...   \n",
       "6               Bengal  Bengal Cats are curious and confident with the...   \n",
       "7               Birman  The Birman is a cat of distinction as well as ...   \n",
       "8               Bombay  The Bombay is an easy-going, yet energetic cat...   \n",
       "9    British Shorthair  The British Shorthair is an easygoing feline. ...   \n",
       "10             Burmese  The Burmese thrives on companionship with her ...   \n",
       "11           Chartreux  According to legend, Carthusian monks bred Cha...   \n",
       "12         Cornish Rex  On July 21, 1950, in Cornwall, England, Nina E...   \n",
       "13           Devon Rex  Because of her curly coat and her tail, which ...   \n",
       "14        Egyptian Mau  The Egyptian Mau is fiercely devoted to her hu...   \n",
       "15    European Burmese  According to legend, Burmese were temple cats ...   \n",
       "16    Exotic Shorthair  Known as the lazy man’s Persian, the Exotic Sh...   \n",
       "17        Havana Brown  In August 1968, Elizabeth Freret, a well-known...   \n",
       "18           Himalayan  The Himalayan Cat is a sweet and mild-tempered...   \n",
       "19    Japanese Bobtail  The Havana Brown was named for the similarity ...   \n",
       "20               Korat  Discovered in the Korat province of Thailand, ...   \n",
       "21              LaPerm  The LaPerm coat ranges from wavy to ringlets t...   \n",
       "22          Maine Coon  Maine Coon cats are gentle natured and friendl...   \n",
       "23                Manx  When she’s not hunting bugs or rodents or stan...   \n",
       "24            Munchkin  They may have short legs, but Munchkin Cats do...   \n",
       "25    Norwegian Forest  The Norwegian Forest Cat is a gentle giant. Th...   \n",
       "26              Ocicat  In 1964, Virginia Daly of Berkleg, Mich., expe...   \n",
       "27            Oriental  The Oriental is a sleek, elegant cat with larg...   \n",
       "28             Persian  The docile Persian is a quiet feline who enjoy...   \n",
       "29           Peterbald  The Peterbald coat ranges from smooth bald to ...   \n",
       "30            Pixiebob  The Pixiebob is the only breed that accepts po...   \n",
       "31          Ragamuffin  The RagaMuffin is similar, but not identical, ...   \n",
       "32             Ragdoll  Ragdolls are loving, smart and playful. They s...   \n",
       "33        Russian Blue  The Russian Blue is gentle, quiet and even shy...   \n",
       "34            Savannah  The Savannah Cat’s personality is playful, adv...   \n",
       "35       Scottish Fold  The smart and friendly Scottish Fold loves pla...   \n",
       "36         Selkirk Rex  Selkirk Rex litters can have both curly coated...   \n",
       "37             Siamese  Siamese Cats are incredibly social, intelligen...   \n",
       "38            Siberian  This friendly and affectionate feline will fol...   \n",
       "39           Singapura  The Singapura originated from small brown cats...   \n",
       "40              Somali  Contrary to popular belief, the Somali did not...   \n",
       "41              Sphynx  The hairless Sphynx is muscular with broad ear...   \n",
       "42           Tonkinese  The Tonkinese, like her ancestral breeds, the ...   \n",
       "43              Toyger  Bred to resemble wild tigers in a domestic pac...   \n",
       "44      Turkish Angora  The Turkish Angora may have been the first lon...   \n",
       "45         Turkish Van  The Turkish Van is a rare, ancient breed that ...   \n",
       "\n",
       "                                                 href  \\\n",
       "0        https://www.purina.com/breeds/abyssinian-cat   \n",
       "1   https://www.purina.com/cats/cat-breeds/america...   \n",
       "2   https://www.purina.com/cats/cat-breeds/america...   \n",
       "3   https://www.purina.com/cats/cat-breeds/america...   \n",
       "4   https://www.purina.com/cats/cat-breeds/america...   \n",
       "5   https://www.purina.com/cats/cat-breeds/balines...   \n",
       "6            https://www.purina.com/breeds/bengal-cat   \n",
       "7      https://www.purina.com/breeds/birman-cat-breed   \n",
       "8       https://www.purina.com/cats/cat-breeds/bombay   \n",
       "9   https://www.purina.com/cats/cat-breeds/british...   \n",
       "10     https://www.purina.com/cats/cat-breeds/burmese   \n",
       "11   https://www.purina.com/cats/cat-breeds/chartreux   \n",
       "12  https://www.purina.com/cats/cat-breeds/cornish...   \n",
       "13   https://www.purina.com/cats/cat-breeds/devon-rex   \n",
       "14  https://www.purina.com/cats/cat-breeds/egyptia...   \n",
       "15  https://www.purina.com/cats/cat-breeds/europea...   \n",
       "16  https://www.purina.com/cats/cat-breeds/exotic-...   \n",
       "17  https://www.purina.com/cats/cat-breeds/havana-...   \n",
       "18   https://www.purina.com/cats/cat-breeds/himalayan   \n",
       "19  https://www.purina.com/cats/cat-breeds/japanes...   \n",
       "20       https://www.purina.com/cats/cat-breeds/korat   \n",
       "21      https://www.purina.com/cats/cat-breeds/laperm   \n",
       "22  https://www.purina.com/cats/cat-breeds/maine-coon   \n",
       "23        https://www.purina.com/cats/cat-breeds/manx   \n",
       "24    https://www.purina.com/cats/cat-breeds/munchkin   \n",
       "25  https://www.purina.com/cats/cat-breeds/norwegi...   \n",
       "26      https://www.purina.com/cats/cat-breeds/ocicat   \n",
       "27    https://www.purina.com/cats/cat-breeds/oriental   \n",
       "28     https://www.purina.com/cats/cat-breeds/persian   \n",
       "29   https://www.purina.com/cats/cat-breeds/peterbald   \n",
       "30    https://www.purina.com/cats/cat-breeds/pixiebob   \n",
       "31  https://www.purina.com/cats/cat-breeds/ragamuffin   \n",
       "32     https://www.purina.com/cats/cat-breeds/ragdoll   \n",
       "33  https://www.purina.com/cats/cat-breeds/russian...   \n",
       "34    https://www.purina.com/cats/cat-breeds/savannah   \n",
       "35  https://www.purina.com/cats/cat-breeds/scottis...   \n",
       "36  https://www.purina.com/cats/cat-breeds/selkirk...   \n",
       "37     https://www.purina.com/cats/cat-breeds/siamese   \n",
       "38    https://www.purina.com/cats/cat-breeds/siberian   \n",
       "39   https://www.purina.com/cats/cat-breeds/singapura   \n",
       "40      https://www.purina.com/cats/cat-breeds/somali   \n",
       "41      https://www.purina.com/cats/cat-breeds/sphynx   \n",
       "42   https://www.purina.com/cats/cat-breeds/tonkinese   \n",
       "43     https://www.purina.com/breeds/toyger-cat-breed   \n",
       "44  https://www.purina.com/cats/cat-breeds/turkish...   \n",
       "45  https://www.purina.com/cats/cat-breeds/turkish...   \n",
       "\n",
       "                                              img_url  \n",
       "0   https://www.purina.com/sites/g/files/auxxlc196...  \n",
       "1   https://www.purina.com/sites/g/files/auxxlc196...  \n",
       "2   https://www.purina.com/sites/g/files/auxxlc196...  \n",
       "3   https://www.purina.com/sites/g/files/auxxlc196...  \n",
       "4   https://www.purina.com/sites/g/files/auxxlc196...  \n",
       "5   https://www.purina.com/sites/g/files/auxxlc196...  \n",
       "6   https://www.purina.com/sites/g/files/auxxlc196...  \n",
       "7   https://www.purina.com/sites/g/files/auxxlc196...  \n",
       "8   https://www.purina.com/sites/g/files/auxxlc196...  \n",
       "9   https://www.purina.com/sites/g/files/auxxlc196...  \n",
       "10  https://www.purina.com/sites/g/files/auxxlc196...  \n",
       "11  https://www.purina.com/sites/g/files/auxxlc196...  \n",
       "12  https://www.purina.com/sites/g/files/auxxlc196...  \n",
       "13  https://www.purina.com/sites/g/files/auxxlc196...  \n",
       "14  https://www.purina.com/sites/g/files/auxxlc196...  \n",
       "15  https://www.purina.com/sites/g/files/auxxlc196...  \n",
       "16  https://www.purina.com/sites/g/files/auxxlc196...  \n",
       "17  https://www.purina.com/sites/g/files/auxxlc196...  \n",
       "18  https://www.purina.com/sites/g/files/auxxlc196...  \n",
       "19  https://www.purina.com/sites/g/files/auxxlc196...  \n",
       "20  https://www.purina.com/sites/g/files/auxxlc196...  \n",
       "21  https://www.purina.com/sites/g/files/auxxlc196...  \n",
       "22  https://www.purina.com/sites/g/files/auxxlc196...  \n",
       "23  https://www.purina.com/sites/g/files/auxxlc196...  \n",
       "24  https://www.purina.com/sites/g/files/auxxlc196...  \n",
       "25  https://www.purina.com/sites/g/files/auxxlc196...  \n",
       "26  https://www.purina.com/sites/g/files/auxxlc196...  \n",
       "27  https://www.purina.com/sites/g/files/auxxlc196...  \n",
       "28  https://www.purina.com/sites/g/files/auxxlc196...  \n",
       "29  https://www.purina.com/sites/g/files/auxxlc196...  \n",
       "30  https://www.purina.com/sites/g/files/auxxlc196...  \n",
       "31  https://www.purina.com/sites/g/files/auxxlc196...  \n",
       "32  https://www.purina.com/sites/g/files/auxxlc196...  \n",
       "33  https://www.purina.com/sites/g/files/auxxlc196...  \n",
       "34  https://www.purina.com/sites/g/files/auxxlc196...  \n",
       "35  https://www.purina.com/sites/g/files/auxxlc196...  \n",
       "36  https://www.purina.com/sites/g/files/auxxlc196...  \n",
       "37  https://www.purina.com/sites/g/files/auxxlc196...  \n",
       "38  https://www.purina.com/sites/g/files/auxxlc196...  \n",
       "39  https://www.purina.com/sites/g/files/auxxlc196...  \n",
       "40  https://www.purina.com/sites/g/files/auxxlc196...  \n",
       "41  https://www.purina.com/sites/g/files/auxxlc196...  \n",
       "42  https://www.purina.com/sites/g/files/auxxlc196...  \n",
       "43  https://www.purina.com/sites/g/files/auxxlc196...  \n",
       "44  https://www.purina.com/sites/g/files/auxxlc196...  \n",
       "45  https://www.purina.com/sites/g/files/auxxlc196...  "
      ]
     },
     "execution_count": 99,
     "metadata": {},
     "output_type": "execute_result"
    }
   ],
   "source": [
    "df_merged"
   ]
  },
  {
   "cell_type": "code",
   "execution_count": 111,
   "id": "71e9375f",
   "metadata": {},
   "outputs": [
    {
     "data": {
      "text/plain": [
       "'N nan cols: 0'"
      ]
     },
     "metadata": {},
     "output_type": "display_data"
    },
    {
     "data": {
      "text/plain": [
       "Series([], dtype: float64)"
      ]
     },
     "metadata": {},
     "output_type": "display_data"
    },
    {
     "data": {
      "image/png": "[encoded data removed]",
      "text/plain": [
       "<Figure size 1000x600 with 1 Axes>"
      ]
     },
     "metadata": {},
     "output_type": "display_data"
    }
   ],
   "source": [
    "check_nan(df_merged)"
   ]
  },
  {
   "cell_type": "code",
   "execution_count": 110,
   "id": "8a74b07f",
   "metadata": {},
   "outputs": [],
   "source": [
    "df_merged.to_csv('cats_clean_t.csv', index=False)\n"
   ]
  },
  {
   "cell_type": "code",
   "execution_count": 114,
   "id": "e4e69d74",
   "metadata": {},
   "outputs": [
    {
     "name": "stdout",
     "output_type": "stream",
     "text": [
      "Collecting pymongo\n",
      "  Using cached pymongo-4.3.3-cp310-cp310-win_amd64.whl (382 kB)\n",
      "Collecting dnspython<3.0.0,>=1.16.0 (from pymongo)\n",
      "  Using cached dnspython-2.3.0-py3-none-any.whl (283 kB)\n",
      "Installing collected packages: dnspython, pymongo\n",
      "Successfully installed dnspython-2.3.0 pymongo-4.3.3\n",
      "Note: you may need to restart the kernel to use updated packages.\n"
     ]
    }
   ],
   "source": [
    "%pip install pymongo\n",
    "\n",
    "import pymongo\n",
    "from pymongo import MongoClient\n",
    "from pymongo.errors import ConnectionFailure\n"
   ]
  },
  {
   "cell_type": "code",
   "execution_count": 116,
   "id": "fc79fe5f",
   "metadata": {},
   "outputs": [
    {
     "data": {
      "text/plain": [
       "MongoClient(host=['localhost:27017'], document_class=dict, tz_aware=False, connect=True)"
      ]
     },
     "execution_count": 116,
     "metadata": {},
     "output_type": "execute_result"
    }
   ],
   "source": [
    "cursor=MongoClient()\n",
    "\n",
    "cursor"
   ]
  },
  {
   "cell_type": "code",
   "execution_count": 117,
   "id": "fe9d20bd",
   "metadata": {},
   "outputs": [
    {
     "data": {
      "text/plain": [
       "MongoClient(host=['localhost:27017'], document_class=dict, tz_aware=False, connect=True)"
      ]
     },
     "execution_count": 117,
     "metadata": {},
     "output_type": "execute_result"
    }
   ],
   "source": [
    "\n",
    "str_conn='mongodb://localhost:27017'\n",
    "\n",
    "cursor=MongoClient(str_conn)\n",
    "\n",
    "cursor"
   ]
  },
  {
   "cell_type": "code",
   "execution_count": 118,
   "id": "ebc6e73e",
   "metadata": {},
   "outputs": [
    {
     "data": {
      "text/plain": [
       "['admin', 'config', 'labmongo', 'local']"
      ]
     },
     "execution_count": 118,
     "metadata": {},
     "output_type": "execute_result"
    }
   ],
   "source": [
    "cursor.list_database_names()"
   ]
  },
  {
   "cell_type": "code",
   "execution_count": 119,
   "id": "28f2ff6f",
   "metadata": {},
   "outputs": [],
   "source": [
    "db=cursor.nueva_db"
   ]
  },
  {
   "cell_type": "code",
   "execution_count": 120,
   "id": "1fe5a6f1",
   "metadata": {},
   "outputs": [],
   "source": [
    "colec = db.n_colec "
   ]
  },
  {
   "cell_type": "code",
   "execution_count": 121,
   "id": "24d1f1a4",
   "metadata": {},
   "outputs": [],
   "source": [
    "data = df_merged.to_dict(orient='records')\n"
   ]
  },
  {
   "cell_type": "code",
   "execution_count": 122,
   "id": "4b613cff",
   "metadata": {},
   "outputs": [
    {
     "data": {
      "text/plain": [
       "<pymongo.results.InsertManyResult at 0x1f12bfaaf80>"
      ]
     },
     "execution_count": 122,
     "metadata": {},
     "output_type": "execute_result"
    }
   ],
   "source": [
    "collection.insert_many(data)\n"
   ]
  },
  {
   "cell_type": "code",
   "execution_count": 123,
   "id": "55d6af08",
   "metadata": {},
   "outputs": [
    {
     "data": {
      "text/plain": [
       "['admin', 'config', 'labmongo', 'local', 'mydatabase']"
      ]
     },
     "execution_count": 123,
     "metadata": {},
     "output_type": "execute_result"
    }
   ],
   "source": [
    "cursor.list_database_names()"
   ]
  },
  {
   "cell_type": "code",
   "execution_count": null,
   "id": "1f2ae17c",
   "metadata": {},
   "outputs": [],
   "source": []
  }
 ],
 "metadata": {
  "kernelspec": {
   "display_name": "Python 3 (ipykernel)",
   "language": "python",
   "name": "python3"
  },
  "language_info": {
   "codemirror_mode": {
    "name": "ipython",
    "version": 3
   },
   "file_extension": ".py",
   "mimetype": "text/x-python",
   "name": "python",
   "nbconvert_exporter": "python",
   "pygments_lexer": "ipython3",
   "version": "3.10.9"
  }
 },
 "nbformat": 4,
 "nbformat_minor": 5
}
